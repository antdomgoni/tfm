{
 "cells": [
  {
   "cell_type": "code",
   "execution_count": null,
   "metadata": {},
   "outputs": [],
   "source": [
    "# %load Prueba1.ipynb\n",
    "#%run Monitoring\\ Twitter.ipynb"
   ]
  },
  {
   "cell_type": "code",
   "execution_count": 1,
   "metadata": {},
   "outputs": [],
   "source": [
    "from ipynb.fs.full.Metodos_Propios import *\n",
    "import sys\n",
    "import pandas as pd\n",
    "import GetOldTweets3 as got"
   ]
  },
  {
   "cell_type": "markdown",
   "metadata": {},
   "source": [
    "# Método Principal - TFM Data Science"
   ]
  },
  {
   "cell_type": "code",
   "execution_count": null,
   "metadata": {},
   "outputs": [
    {
     "name": "stdout",
     "output_type": "stream",
     "text": [
      "['2020-04-01', '2020-04-07']\n"
     ]
    }
   ],
   "source": [
    "if __name__ == '__main__':\n",
    "    # Definición de variables\n",
    "    tweets = creacion_DataFrame()\n",
    "    calendario = creacion_Listas()\n",
    "    calendario = calendar_2()\n",
    "    print(calendario)\n",
    "    #Acceso a Twitter\n",
    "    api = acceso_Twitter() \n",
    "    \n",
    "    #Lectura de ficheros para ir más rápido ubicados en CSVs/*\n",
    "        #tweets = read_all_Tweets() \n",
    "    \n",
    "    #Obtención por GetOldTweets\n",
    "        tweets = get_Tweets(calendario)\n",
    "    print(len(tweets))\n",
    "    \n",
    "    "
   ]
  },
  {
   "cell_type": "code",
   "execution_count": null,
   "metadata": {},
   "outputs": [],
   "source": []
  }
 ],
 "metadata": {
  "kernelspec": {
   "display_name": "Python 3",
   "language": "python",
   "name": "python3"
  },
  "language_info": {
   "codemirror_mode": {
    "name": "ipython",
    "version": 3
   },
   "file_extension": ".py",
   "mimetype": "text/x-python",
   "name": "python",
   "nbconvert_exporter": "python",
   "pygments_lexer": "ipython3",
   "version": "3.7.4"
  }
 },
 "nbformat": 4,
 "nbformat_minor": 2
}
