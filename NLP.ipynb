{
 "cells": [
  {
   "cell_type": "code",
   "execution_count": null,
   "metadata": {},
   "outputs": [],
   "source": [
    "class NLP:\n",
    "        \n",
    "    def __init__(self):\n",
    "        pass\n",
    "        \n",
    "    def eliminar_signos(self, text):\n",
    "        text  = \"\".join([char for char in text if char not in string.punctuation])\n",
    "        text = re.sub('[0-9]+', '', text)\n",
    "        text = re.sub('@[A-Za-z0–9]+', '', text) #b orrado menciones\n",
    "        text = re.sub('#', '', text) # borrado '#' \n",
    "        text = re.sub('RT[\\s]+', '', text) # borrado RT\n",
    "        text = re.sub('https?:\\/\\/\\S+', '', text) # borrado url\n",
    "        return text\n",
    "    \n",
    "    def tokenization(self, text):\n",
    "        text = re.split('\\W+', text)\n",
    "        return text\n",
    "    \n",
    "    def palabras_vacias(self):\n",
    "        return nltk.corpus.stopwords.words('spanish')\n",
    "    \n",
    "    def quitar_palabras_vacias(self,text):\n",
    "        text = [palabra for palabra in text if palabra not in self.palabras_vacias()]\n",
    "        return text\n",
    "\n",
    "        \n",
    "    def analisis(self,df_tweets):\n",
    "        polarity=0\n",
    "        total = 0\n",
    "        for index,tweet in df_tweets.iterrows():\n",
    "\n",
    "            analysis = TextBlob(tweet['Tweet_novacias'])\n",
    "            if (analysis.sentiment.polarity ==0):\n",
    "                tweet['valor'] = 0\n",
    "            elif (analysis.sentiment.polarity < 0):\n",
    "                tweet['valor'] = -1\n",
    "            elif (analysis.sentiment.polarity > 0):\n",
    "                tweet['valor'] = 1\n",
    "\n",
    "            df_tweets.loc[index,'valor'] = tweet['valor']\n",
    "            df_tweets.loc[index,'subjetividad'] = analysis.sentiment.subjectivity\n",
    "            df_tweets.loc[index,'objetividad'] = analysis.sentiment.polarity\n",
    "\n",
    "            total += 1\n",
    "\n",
    "\n",
    "        return df_tweets\n",
    "    \n",
    "\n",
    "            "
   ]
  },
  {
   "cell_type": "code",
   "execution_count": null,
   "metadata": {},
   "outputs": [],
   "source": []
  },
  {
   "cell_type": "code",
   "execution_count": null,
   "metadata": {},
   "outputs": [],
   "source": []
  }
 ],
 "metadata": {
  "kernelspec": {
   "display_name": "Python 3",
   "language": "python",
   "name": "python3"
  },
  "language_info": {
   "codemirror_mode": {
    "name": "ipython",
    "version": 3
   },
   "file_extension": ".py",
   "mimetype": "text/x-python",
   "name": "python",
   "nbconvert_exporter": "python",
   "pygments_lexer": "ipython3",
   "version": "3.7.4"
  }
 },
 "nbformat": 4,
 "nbformat_minor": 2
}
