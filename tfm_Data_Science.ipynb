{
 "cells": [
  {
   "cell_type": "markdown",
   "metadata": {},
   "source": [
    "\n",
    "### Librerías"
   ]
  },
  {
   "cell_type": "code",
   "execution_count": 243,
   "metadata": {},
   "outputs": [],
   "source": [
    "import sys\n",
    "import pandas as pd\n",
    "import GetOldTweets3 as got\n",
    "import sys\n",
    "import matplotlib.pyplot as plt\n",
    "from googletrans import Translator\n",
    "import socket as sk"
   ]
  },
  {
   "cell_type": "markdown",
   "metadata": {},
   "source": [
    "### Configuración de parámetros "
   ]
  },
  {
   "cell_type": "code",
   "execution_count": 244,
   "metadata": {},
   "outputs": [],
   "source": [
    "pd.options.display.max_columns = 5000\n",
    "pd.options.display.max_rows = 5000\n",
    "sk.setdefaulttimeout(600)"
   ]
  },
  {
   "cell_type": "markdown",
   "metadata": {},
   "source": [
    "### Ejecución de códigos auxiliares"
   ]
  },
  {
   "cell_type": "code",
   "execution_count": 256,
   "metadata": {},
   "outputs": [],
   "source": [
    "%run Metodos_Propios.ipynb\n",
    "%run Gestion_Ficheros.ipynb\n",
    "%run GetOldTweets.ipynb\n",
    "%run NLP.ipynb"
   ]
  },
  {
   "cell_type": "markdown",
   "metadata": {},
   "source": [
    "# Método Principal - TFM Data Science"
   ]
  },
  {
   "cell_type": "code",
   "execution_count": null,
   "metadata": {},
   "outputs": [
    {
     "name": "stdout",
     "output_type": "stream",
     "text": [
      "['2020-01-01', '2020-01-31', '2020-02-01', '2020-02-29', '2020-03-01', '2020-03-31', '2020-04-01', '2020-04-30', '2020-05-01', '2020-05-31', '2020-06-01', '2020-06-30', '2020-07-01', '2020-07-31']\n",
      "Opción Online\n"
     ]
    }
   ],
   "source": [
    "if __name__ == '__main__':\n",
    "    # Definición de variables\n",
    "    start_time = start = time.process_time()\n",
    "    df_tweets, df_tweets_final = creacion_DataFrame()\n",
    "    calendario = calendar()\n",
    "    print(calendario)\n",
    "    googleTranslate = Translator()\n",
    "    online = 1\n",
    "    all_tweets = 0\n",
    "    positivo, negativo, neutral, sentiment = creacion_Variables()\n",
    "    \n",
    "    #Acceso a Twitter\n",
    "    api = acceso_Twitter() \n",
    "      \n",
    "    #Obtención por GetOldTweets\n",
    "    if online == 1:\n",
    "        print('Opción Online')\n",
    "        df_tweets = get_Tweets(calendario)\n",
    "    #Lectura de ficheros para ir más rápido ubicados en CSVs\n",
    "    elif all_tweets == 0:\n",
    "        print('Opción Offline Tweets')\n",
    "        df_tweets = read_all_Tweets() \n",
    "    else: \n",
    "        print('Opción 1 fichero')\n",
    "        file = 'CSVs/info_tweets_el_corte_ingles_202003.csv'\n",
    "        df_tweets = read_Tweets(file)\n",
    "    \n",
    "    df_tweets['valor'] = -10\n",
    "    df_tweets['fecha'] = df_tweets['date'].astype(str).str[:10]\n",
    "    df_tweets['fecha'] = df_tweets['fecha'].str.replace('-','/')\n",
    "    df_tweets['idioma'] = 'NA'\n",
    "    \n",
    "    #df_tweets = language_tweets(df_tweets)\n",
    "    #df_tweets = translate_tweets(df_tweets,googleTranslate)\n",
    "    #Pasando el algoritmo de NLP para obtener el análisis de sentimiento\n",
    "    df_tweets_final = analisis_2(df_tweets)\n",
    "    #Generación de CSVs para el CdM\n",
    "\n",
    "    #writeCSV(df_tweets_final,'CdM/Tweets_Info.csv')\n",
    "    print(\"--- %s seconds ---\" % round((time.time() - start_time),2))    \n",
    "    "
   ]
  },
  {
   "cell_type": "code",
   "execution_count": null,
   "metadata": {},
   "outputs": [],
   "source": [
    "len(df_tweets_final)"
   ]
  },
  {
   "cell_type": "code",
   "execution_count": null,
   "metadata": {},
   "outputs": [],
   "source": [
    "df_tweets_final.valor.unique()"
   ]
  },
  {
   "cell_type": "code",
   "execution_count": null,
   "metadata": {},
   "outputs": [],
   "source": [
    "df_tweets_final.idioma.unique()"
   ]
  },
  {
   "cell_type": "markdown",
   "metadata": {},
   "source": [
    "# Gráfica de tarta"
   ]
  },
  {
   "cell_type": "code",
   "execution_count": null,
   "metadata": {},
   "outputs": [],
   "source": [
    "labels = ['Positivo ['+str(sentiment[0])+'%]','Neutral ['+str(sentiment[0])+'%]','Negativo ['+str(sentiment[2])+'%]']\n",
    "sizes = [sentiment[0],sentiment[1],sentiment[2]]\n",
    "colors =['yellowgreen','gold','green']\n",
    "patches, texts = plt.pie(sizes, colors=colors, startangle=90)\n",
    "plt.title('Opinión ECI - COVID')\n",
    "plt.axis('equal')\n",
    "plt.show()"
   ]
  }
 ],
 "metadata": {
  "kernelspec": {
   "display_name": "Python 3",
   "language": "python",
   "name": "python3"
  },
  "language_info": {
   "codemirror_mode": {
    "name": "ipython",
    "version": 3
   },
   "file_extension": ".py",
   "mimetype": "text/x-python",
   "name": "python",
   "nbconvert_exporter": "python",
   "pygments_lexer": "ipython3",
   "version": "3.7.4"
  }
 },
 "nbformat": 4,
 "nbformat_minor": 2
}
