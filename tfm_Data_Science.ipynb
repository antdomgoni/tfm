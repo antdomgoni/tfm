{
 "cells": [
  {
   "cell_type": "markdown",
   "metadata": {},
   "source": [
    "\n",
    "### Librerías"
   ]
  },
  {
   "cell_type": "code",
   "execution_count": 60,
   "metadata": {},
   "outputs": [],
   "source": [
    "import sys\n",
    "import pandas as pd\n",
    "import GetOldTweets3 as got\n",
    "#from ipynb.fs.full.GetOldTweets import *\n",
    "import sys\n",
    "import matplotlib.pyplot as plt"
   ]
  },
  {
   "cell_type": "markdown",
   "metadata": {},
   "source": [
    "### Configuración de parámetros "
   ]
  },
  {
   "cell_type": "code",
   "execution_count": 61,
   "metadata": {},
   "outputs": [],
   "source": [
    "pd.options.display.max_columns = 5000\n",
    "pd.options.display.max_rows = 5000"
   ]
  },
  {
   "cell_type": "markdown",
   "metadata": {},
   "source": [
    "### Ejecución de códigos auxiliares"
   ]
  },
  {
   "cell_type": "code",
   "execution_count": 62,
   "metadata": {},
   "outputs": [],
   "source": [
    "%run Metodos_Propios.ipynb\n",
    "%run Gestion_Ficheros.ipynb\n",
    "%run GetOldTweets.ipynb\n",
    "%run NLP.ipynb"
   ]
  },
  {
   "cell_type": "markdown",
   "metadata": {},
   "source": [
    "# Método Principal - TFM Data Science"
   ]
  },
  {
   "cell_type": "code",
   "execution_count": 55,
   "metadata": {},
   "outputs": [
    {
     "name": "stdout",
     "output_type": "stream",
     "text": [
      "Positivo: 5.024374501044622 %\n",
      "Negativo: 1.6459157848249621 %\n",
      "Neutral: 93.32970971413042 %\n"
     ]
    }
   ],
   "source": [
    "if __name__ == '__main__':\n",
    "    # Definición de variables\n",
    "    df_tweets, df_tweets_time = creacion_DataFrame()\n",
    "    calendario = calendar()\n",
    "    positivo, negativo, neutral, sentiment = creacion_Variables()\n",
    "    \n",
    "    #Acceso a Twitter\n",
    "    api = acceso_Twitter() \n",
    "    \n",
    "    #Lectura de ficheros para ir más rápido ubicados en CSVs\n",
    "    df_tweets = read_all_Tweets() \n",
    "    #df_tweets = read_Tweets()\n",
    "    #print(calendario)\n",
    "    #Obtención por GetOldTweets\n",
    "    #df_tweets = get_Tweets(calendario)\n",
    "    \n",
    "    #Pasando el algoritmo de NLP para obtener el análisis de sentimiento\n",
    "    sentiment = analisis(df_tweets, positivo,neutral,negativo)\n",
    "    #Generación de CSVs para el CdM"
   ]
  },
  {
   "cell_type": "code",
   "execution_count": 63,
   "metadata": {},
   "outputs": [
    {
     "data": {
      "image/png": "[encoded data removed]",
      "text/plain": [
       "<Figure size 432x288 with 1 Axes>"
      ]
     },
     "metadata": {},
     "output_type": "display_data"
    }
   ],
   "source": [
    "pintar(sentiment[positivo], sentiment[neutral], sentiment[negativo])"
   ]
  },
  {
   "cell_type": "code",
   "execution_count": 64,
   "metadata": {},
   "outputs": [
    {
     "data": {
      "image/png": "[encoded data removed]",
      "text/plain": [
       "<Figure size 432x288 with 1 Axes>"
      ]
     },
     "metadata": {},
     "output_type": "display_data"
    }
   ],
   "source": [
    "labels = ['Positivo ['+str(sentiment[positivo])+'%]','Neutral ['+str(sentiment[neutral])+'%]','Negativo ['+str(sentiment[negativo])+'%]']\n",
    "sizes = [positivo,neutral,negativo]\n",
    "colors =['yellowgreen','gold','green']\n",
    "patches, texts = plt.pie(sizes, colors=colors, startangle=90)\n",
    "plt.title('Opinión ECI - COVID')\n",
    "plt.axis('equal')\n",
    "plt.show()"
   ]
  },
  {
   "cell_type": "code",
   "execution_count": null,
   "metadata": {},
   "outputs": [],
   "source": []
  }
 ],
 "metadata": {
  "kernelspec": {
   "display_name": "Python 3",
   "language": "python",
   "name": "python3"
  },
  "language_info": {
   "codemirror_mode": {
    "name": "ipython",
    "version": 3
   },
   "file_extension": ".py",
   "mimetype": "text/x-python",
   "name": "python",
   "nbconvert_exporter": "python",
   "pygments_lexer": "ipython3",
   "version": "3.7.4"
  }
 },
 "nbformat": 4,
 "nbformat_minor": 2
}
