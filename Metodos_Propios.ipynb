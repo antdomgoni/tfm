{
 "cells": [
  {
   "cell_type": "markdown",
   "metadata": {},
   "source": [
    "# Métodos propios - TFM"
   ]
  },
  {
   "cell_type": "code",
   "execution_count": 24,
   "metadata": {},
   "outputs": [],
   "source": [
    "import pandas as pd\n",
    "import glob\n",
    "import tweepy\n",
    "import GetOldTweets3 as got\n"
   ]
  },
  {
   "cell_type": "markdown",
   "metadata": {},
   "source": [
    "# Acceso a Twitter"
   ]
  },
  {
   "cell_type": "code",
   "execution_count": 25,
   "metadata": {},
   "outputs": [],
   "source": [
    "def acceso_Twitter():\n",
    "    OAUTH_TOKEN='1204477616398503936-7Z5WSIa0490S7HbIoPrDzosdA8aJKb'\n",
    "    OAUTH_SECRET='OCHWxZGQlrnaoNx4corTWHNZPrtGtItteYnow7nMDhtON'\n",
    "    CONSUMER_KEY='IRuah0diiQDx7ayuHaFmCOvTq'\n",
    "    CONSUMER_SECRET='FkYZE9vZXWMgWvovRjcqQaixPleh6ADXdD3XU05ZsIkscSFzXd'\n",
    "    auth = tweepy.OAuthHandler(CONSUMER_KEY,CONSUMER_SECRET)\n",
    "    auth.set_access_token(OAUTH_TOKEN,OAUTH_SECRET)\n",
    "    api = tweepy.API(auth, wait_on_rate_limit=True, wait_on_rate_limit_notify=True, timeout=3600)\n",
    "    return api\n"
   ]
  },
  {
   "cell_type": "markdown",
   "metadata": {},
   "source": [
    "# Calendario"
   ]
  },
  {
   "cell_type": "code",
   "execution_count": 26,
   "metadata": {},
   "outputs": [],
   "source": [
    "def calendar():\n",
    "    return ['2020-01-01','2020-01-31',\n",
    "            '2020-02-01','2020-02-29',\n",
    "            '2020-03-01','2020-03-31',\n",
    "            '2020-04-01','2020-04-30',\n",
    "            '2020-05-01','2020-05-31',\n",
    "            '2020-06-01','2020-06-30',\n",
    "            '2020-07-01','2020-07-31',\n",
    "            '2020-08-01','2020-08-31']\n",
    "#calendar()"
   ]
  },
  {
   "cell_type": "code",
   "execution_count": 27,
   "metadata": {},
   "outputs": [],
   "source": [
    "def calendar_2():\n",
    "    return ['2020-04-01','2020-04-07']"
   ]
  },
  {
   "cell_type": "markdown",
   "metadata": {},
   "source": [
    "# Creación de Variables"
   ]
  },
  {
   "cell_type": "code",
   "execution_count": 28,
   "metadata": {},
   "outputs": [],
   "source": [
    "def creacion_DataFrame():\n",
    "    df_aux = pd.DataFrame()\n",
    "    df_tweets = pd.DataFrame()\n",
    "    return df_aux,df_tweets"
   ]
  },
  {
   "cell_type": "code",
   "execution_count": 29,
   "metadata": {},
   "outputs": [],
   "source": [
    "def creacion_Listas():\n",
    "    calendar = []\n",
    "    return calendar"
   ]
  },
  {
   "cell_type": "markdown",
   "metadata": {},
   "source": [
    "# Gestión de Ficheros"
   ]
  },
  {
   "cell_type": "markdown",
   "metadata": {},
   "source": [
    "## Función Lectura y Escritura"
   ]
  },
  {
   "cell_type": "code",
   "execution_count": 30,
   "metadata": {},
   "outputs": [],
   "source": [
    "def writeCSV(dataframe,file):\n",
    "    dataframe.to_csv(file, index=False)"
   ]
  },
  {
   "cell_type": "code",
   "execution_count": 31,
   "metadata": {},
   "outputs": [],
   "source": [
    "def readCSV(dataframe,file):\n",
    "    dataframe = pd.read_csv(file,sep=',', index_col=None)\n",
    "    return dataframe"
   ]
  },
  {
   "cell_type": "markdown",
   "metadata": {},
   "source": [
    "## Función Lectura de todos los tweets "
   ]
  },
  {
   "cell_type": "code",
   "execution_count": 32,
   "metadata": {
    "collapsed": true
   },
   "outputs": [
    {
     "data": {
      "text/html": [
       "<div>\n",
       "<style scoped>\n",
       "    .dataframe tbody tr th:only-of-type {\n",
       "        vertical-align: middle;\n",
       "    }\n",
       "\n",
       "    .dataframe tbody tr th {\n",
       "        vertical-align: top;\n",
       "    }\n",
       "\n",
       "    .dataframe thead th {\n",
       "        text-align: right;\n",
       "    }\n",
       "</style>\n",
       "<table border=\"1\" class=\"dataframe\">\n",
       "  <thead>\n",
       "    <tr style=\"text-align: right;\">\n",
       "      <th></th>\n",
       "      <th>id</th>\n",
       "      <th>date</th>\n",
       "      <th>username</th>\n",
       "      <th>text</th>\n",
       "      <th>geo</th>\n",
       "    </tr>\n",
       "  </thead>\n",
       "  <tbody>\n",
       "    <tr>\n",
       "      <td>0</td>\n",
       "      <td>1255640710847401985</td>\n",
       "      <td>2020-04-29 23:30:48+00:00</td>\n",
       "      <td>camilaperezv13</td>\n",
       "      <td>yo nunca lo he hecho en el corte inglés JAJAJA...</td>\n",
       "      <td>NaN</td>\n",
       "    </tr>\n",
       "    <tr>\n",
       "      <td>1</td>\n",
       "      <td>1255636516111560706</td>\n",
       "      <td>2020-04-29 23:14:08+00:00</td>\n",
       "      <td>VicenteToms14</td>\n",
       "      <td>O q de n sair a rua bb n haha eu aguento me na...</td>\n",
       "      <td>NaN</td>\n",
       "    </tr>\n",
       "    <tr>\n",
       "      <td>2</td>\n",
       "      <td>1255633358748553216</td>\n",
       "      <td>2020-04-29 23:01:35+00:00</td>\n",
       "      <td>Marina47083380</td>\n",
       "      <td>@pablocasado_ @PSOE @podemos @sanchezcastejon ...</td>\n",
       "      <td>NaN</td>\n",
       "    </tr>\n",
       "    <tr>\n",
       "      <td>3</td>\n",
       "      <td>1255632958758752257</td>\n",
       "      <td>2020-04-29 23:00:00+00:00</td>\n",
       "      <td>ainderlab</td>\n",
       "      <td>Lo #RecomiendoLeer Iron Man vs.Emprendedor el ...</td>\n",
       "      <td>NaN</td>\n",
       "    </tr>\n",
       "    <tr>\n",
       "      <td>4</td>\n",
       "      <td>1255632084313440261</td>\n",
       "      <td>2020-04-29 22:56:32+00:00</td>\n",
       "      <td>yurmailof</td>\n",
       "      <td>Si el corte inglés pone algo a un precio alto ...</td>\n",
       "      <td>NaN</td>\n",
       "    </tr>\n",
       "    <tr>\n",
       "      <td>...</td>\n",
       "      <td>...</td>\n",
       "      <td>...</td>\n",
       "      <td>...</td>\n",
       "      <td>...</td>\n",
       "      <td>...</td>\n",
       "    </tr>\n",
       "    <tr>\n",
       "      <td>10084</td>\n",
       "      <td>1212164424074768387</td>\n",
       "      <td>2020-01-01 00:11:34+00:00</td>\n",
       "      <td>monchocolatina</td>\n",
       "      <td>¿Las señoras de Baccara trabajaban en El Corte...</td>\n",
       "      <td>NaN</td>\n",
       "    </tr>\n",
       "    <tr>\n",
       "      <td>10085</td>\n",
       "      <td>1212164223180115969</td>\n",
       "      <td>2020-01-01 00:10:46+00:00</td>\n",
       "      <td>mikelthekid2152</td>\n",
       "      <td>Pero donde me vas con el traje de currar en el...</td>\n",
       "      <td>NaN</td>\n",
       "    </tr>\n",
       "    <tr>\n",
       "      <td>10086</td>\n",
       "      <td>1212162258412982273</td>\n",
       "      <td>2020-01-01 00:02:57+00:00</td>\n",
       "      <td>Manasav_ES</td>\n",
       "      <td>Vestido de mujer Morgan con hebilla y cinturn...</td>\n",
       "      <td>NaN</td>\n",
       "    </tr>\n",
       "    <tr>\n",
       "      <td>10087</td>\n",
       "      <td>1212162024576364550</td>\n",
       "      <td>2020-01-01 00:02:02+00:00</td>\n",
       "      <td>Amiguidetrapo</td>\n",
       "      <td>Ya es primavera en el Corte Inglés. #Feliz2020...</td>\n",
       "      <td>NaN</td>\n",
       "    </tr>\n",
       "    <tr>\n",
       "      <td>10088</td>\n",
       "      <td>1212161516503523329</td>\n",
       "      <td>2020-01-01 00:00:01+00:00</td>\n",
       "      <td>ainderlab</td>\n",
       "      <td>Lo #RecomiendoLeer Iron Man vs.Emprendedor el ...</td>\n",
       "      <td>NaN</td>\n",
       "    </tr>\n",
       "  </tbody>\n",
       "</table>\n",
       "<p>38446 rows × 5 columns</p>\n",
       "</div>"
      ],
      "text/plain": [
       "                        id                       date         username  \\\n",
       "0      1255640710847401985  2020-04-29 23:30:48+00:00   camilaperezv13   \n",
       "1      1255636516111560706  2020-04-29 23:14:08+00:00    VicenteToms14   \n",
       "2      1255633358748553216  2020-04-29 23:01:35+00:00   Marina47083380   \n",
       "3      1255632958758752257  2020-04-29 23:00:00+00:00        ainderlab   \n",
       "4      1255632084313440261  2020-04-29 22:56:32+00:00        yurmailof   \n",
       "...                    ...                        ...              ...   \n",
       "10084  1212164424074768387  2020-01-01 00:11:34+00:00   monchocolatina   \n",
       "10085  1212164223180115969  2020-01-01 00:10:46+00:00  mikelthekid2152   \n",
       "10086  1212162258412982273  2020-01-01 00:02:57+00:00       Manasav_ES   \n",
       "10087  1212162024576364550  2020-01-01 00:02:02+00:00    Amiguidetrapo   \n",
       "10088  1212161516503523329  2020-01-01 00:00:01+00:00        ainderlab   \n",
       "\n",
       "                                                    text  geo  \n",
       "0      yo nunca lo he hecho en el corte inglés JAJAJA...  NaN  \n",
       "1      O q de n sair a rua bb n haha eu aguento me na...  NaN  \n",
       "2      @pablocasado_ @PSOE @podemos @sanchezcastejon ...  NaN  \n",
       "3      Lo #RecomiendoLeer Iron Man vs.Emprendedor el ...  NaN  \n",
       "4      Si el corte inglés pone algo a un precio alto ...  NaN  \n",
       "...                                                  ...  ...  \n",
       "10084  ¿Las señoras de Baccara trabajaban en El Corte...  NaN  \n",
       "10085  Pero donde me vas con el traje de currar en el...  NaN  \n",
       "10086   Vestido de mujer Morgan con hebilla y cinturn...  NaN  \n",
       "10087  Ya es primavera en el Corte Inglés. #Feliz2020...  NaN  \n",
       "10088  Lo #RecomiendoLeer Iron Man vs.Emprendedor el ...  NaN  \n",
       "\n",
       "[38446 rows x 5 columns]"
      ]
     },
     "execution_count": 32,
     "metadata": {},
     "output_type": "execute_result"
    }
   ],
   "source": [
    "def read_all_Tweets():\n",
    "    all_files = glob.glob('CSVs/info_tweets_el_cor*.csv')\n",
    "    files =[]\n",
    "    df = creacion_DataFrame()\n",
    "    for file in all_files:\n",
    "        tweets = readCSV(df,file)\n",
    "        files.append(tweets)\n",
    "\n",
    "    df_tweets = pd.concat(files)\n",
    "    return df_tweets\n",
    "read_all_Tweets()"
   ]
  },
  {
   "cell_type": "code",
   "execution_count": null,
   "metadata": {},
   "outputs": [],
   "source": []
  },
  {
   "cell_type": "code",
   "execution_count": null,
   "metadata": {},
   "outputs": [],
   "source": []
  },
  {
   "cell_type": "code",
   "execution_count": null,
   "metadata": {},
   "outputs": [],
   "source": []
  },
  {
   "cell_type": "code",
   "execution_count": 33,
   "metadata": {},
   "outputs": [],
   "source": [
    "def get_info_tweets(data_got, since, until):\n",
    "    tweetCriteria = got.manager.TweetCriteria().setQuerySearch(\"\\\"el corte ingles\\\"\")\\\n",
    "                                           .setSince(since)\\\n",
    "                                           .setUntil(until)\n",
    "    tweets = got.manager.TweetManager.getTweets(tweetCriteria)\n",
    "    for tweet in tweets:\n",
    "        info_tweet = {}    \n",
    "        info_tweet[\"id\"]=tweet.id\n",
    "        info_tweet[\"date\"]=tweet.date\n",
    "        info_tweet[\"username\"]=tweet.username\n",
    "        info_tweet[\"text\"]=tweet.text\n",
    "        info_tweet[\"geo\"]=tweet.geo\n",
    "        data_got.append(info_tweet)\n",
    "\n",
    "    df_tweets_aux = pd.DataFrame(data_got)\n",
    "    print(len(df_tweets_aux))\n",
    "    \n",
    "    #time.sleep(60*5)\n",
    "    return df_tweets_aux\n",
    "    "
   ]
  },
  {
   "cell_type": "code",
   "execution_count": 34,
   "metadata": {},
   "outputs": [],
   "source": [
    "def get_Tweets(calendar):\n",
    "    i=0\n",
    "    df_tweets_time = pd.DataFrame()\n",
    "    while i in range(len(calendar)): \n",
    "        df_tweets_time=df_tweets_time.append(get_info_tweets([], calendar[i] , calendar[i+1]))\n",
    "        i=i+2\n",
    "    print(calendar)\n",
    "    return df_tweets_time"
   ]
  },
  {
   "cell_type": "code",
   "execution_count": null,
   "metadata": {},
   "outputs": [],
   "source": []
  },
  {
   "cell_type": "code",
   "execution_count": null,
   "metadata": {},
   "outputs": [],
   "source": []
  }
 ],
 "metadata": {
  "kernelspec": {
   "display_name": "Python 3",
   "language": "python",
   "name": "python3"
  },
  "language_info": {
   "codemirror_mode": {
    "name": "ipython",
    "version": 3
   },
   "file_extension": ".py",
   "mimetype": "text/x-python",
   "name": "python",
   "nbconvert_exporter": "python",
   "pygments_lexer": "ipython3",
   "version": "3.7.4"
  }
 },
 "nbformat": 4,
 "nbformat_minor": 2
}
