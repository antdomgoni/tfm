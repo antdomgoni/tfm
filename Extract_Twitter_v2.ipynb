{
 "cells": [
  {
   "cell_type": "markdown",
   "metadata": {},
   "source": [
    "# Definición de Librería"
   ]
  },
  {
   "cell_type": "code",
   "execution_count": null,
   "metadata": {},
   "outputs": [],
   "source": [
    "import tweepy\n",
    "import json\n",
    "import pandas as pd\n",
    "import time\n",
    "import GetOldTweets3 as got\n"
   ]
  },
  {
   "cell_type": "code",
   "execution_count": null,
   "metadata": {},
   "outputs": [],
   "source": [
    "%run Metodos_Propios.ipynb\n",
    "%run Gestion_Ficheros.ipynb\n"
   ]
  },
  {
   "cell_type": "code",
   "execution_count": null,
   "metadata": {},
   "outputs": [],
   "source": [
    "pd.set_option('display.max_rows', 1000)"
   ]
  },
  {
   "cell_type": "code",
   "execution_count": null,
   "metadata": {},
   "outputs": [],
   "source": [
    "#Definción de variables\n",
    "df_followers_id = pd.DataFrame()\n",
    "df_followers_info = pd.DataFrame()\n"
   ]
  },
  {
   "cell_type": "markdown",
   "metadata": {},
   "source": [
    "# Definición de las claves para acceder a Twitter"
   ]
  },
  {
   "cell_type": "code",
   "execution_count": null,
   "metadata": {},
   "outputs": [],
   "source": [
    "#Variable de autentificación en Twitter\n",
    "OAUTH_TOKEN='1204477616398503936-7Z5WSIa0490S7HbIoPrDzosdA8aJKb'\n",
    "OAUTH_SECRET='OCHWxZGQlrnaoNx4corTWHNZPrtGtItteYnow7nMDhtON'\n",
    "CONSUMER_KEY='IRuah0diiQDx7ayuHaFmCOvTq'\n",
    "CONSUMER_SECRET='FkYZE9vZXWMgWvovRjcqQaixPleh6ADXdD3XU05ZsIkscSFzXd'"
   ]
  },
  {
   "cell_type": "code",
   "execution_count": null,
   "metadata": {},
   "outputs": [],
   "source": [
    "auth = tweepy.OAuthHandler(CONSUMER_KEY,CONSUMER_SECRET)\n",
    "auth.set_access_token(OAUTH_TOKEN,OAUTH_SECRET)\n",
    "api = tweepy.API(auth, wait_on_rate_limit=True, wait_on_rate_limit_notify=True, timeout=3600)\n",
    "pd.set_option('display.max_rows', None)\n",
    "pd.set_option('display.max_columns',None)\n",
    "pd.set_option('display.width',None)\n",
    "pd.set_option('max_colwidth',-1)"
   ]
  },
  {
   "cell_type": "markdown",
   "metadata": {},
   "source": [
    "# Extracción de los datos de la cuenta"
   ]
  },
  {
   "cell_type": "code",
   "execution_count": null,
   "metadata": {},
   "outputs": [],
   "source": [
    "def extract_info_account():\n",
    "    item = api.get_user('@elcorteingles')\n",
    "    data_account=[]\n",
    "    account={}\n",
    "    account[\"name\"]=item.name\n",
    "    account[\"id\"]=item.id\n",
    "    account[\"screen name\"]=item.screen_name\n",
    "    account[\"friends_count\"]=item.friends_count\n",
    "    account[\"followers_count\"]=item.followers_count\n",
    "    data_account.append(account)\n",
    "    df_account_info = pd.DataFrame(data_account)\n",
    "    return df_account_info\n"
   ]
  },
  {
   "cell_type": "markdown",
   "metadata": {},
   "source": [
    "# Followings"
   ]
  },
  {
   "cell_type": "markdown",
   "metadata": {},
   "source": [
    "# Extracción de las cuentas Followings"
   ]
  },
  {
   "cell_type": "code",
   "execution_count": null,
   "metadata": {},
   "outputs": [],
   "source": [
    "# INFORMACION DE LIMITACION: https://developer.twitter.com/en/docs/basics/rate-limits\n",
    "def get_following_ids(api, twitter_account='@elcorteingles'):\n",
    "    while True:\n",
    "        try:\n",
    "            for page in tweepy.Cursor(api.friends_ids, id=twitter_account, count=5000).pages():\n",
    "                following_ids.extend(page)\n",
    "                #print(len(following_ids))\n",
    "            break\n",
    "        except tweepy.TweepError as e:\n",
    "            time.sleep(60*15)\n",
    "            continue\n",
    "    return following_ids\n"
   ]
  },
  {
   "cell_type": "markdown",
   "metadata": {},
   "source": [
    "# Extracción información de las cuentas Followings"
   ]
  },
  {
   "cell_type": "code",
   "execution_count": null,
   "metadata": {},
   "outputs": [],
   "source": [
    "def get_info_following(api,following_limit):\n",
    "    data = []\n",
    "    for followings in following_limit:\n",
    "        following_obj=api.lookup_users(user_ids=followings) \n",
    "        for user in following_obj:\n",
    "            following={}\n",
    "            following[\"id\"]=user.id\n",
    "            following[\"name\"]=user.name\n",
    "            following[\"screen_name\"]=user.screen_name\n",
    "            following[\"created_at\"]=user.created_at\n",
    "            following[\"location\"]=user.location\n",
    "            following[\"followers_count\"]=user.followers_count\n",
    "            following[\"friends_count\"]=user.friends_count\n",
    "            following[\"description\"]=user.description\n",
    "            data.append(following)\n",
    "    return data\n"
   ]
  },
  {
   "cell_type": "code",
   "execution_count": null,
   "metadata": {},
   "outputs": [],
   "source": [
    "def saveFile():\n",
    "    file= File_Manage()\n",
    "    fl_account_info = 'CSVs/info_el_corte_ingles.csv'\n",
    "    file.setFile(fl_account_info)\n",
    "    file.writeCSV(df_account_info,file.getFile())\n",
    "    fl_following_id = 'CSVs/following_id_el_corte_ingles.csv'\n",
    "    file.setFile(fl_following_id)\n",
    "    file.writeCSV(df_following_id,file.getFile())\n",
    "    fl_following_info = 'CSVs/following_info_el_corte_ingles.csv'\n",
    "    file.setFile(fl_following_info)\n",
    "    file.writeCSV(df_following_info,file.getFile())\n"
   ]
  },
  {
   "cell_type": "code",
   "execution_count": null,
   "metadata": {},
   "outputs": [],
   "source": []
  }
 ],
 "metadata": {
  "kernelspec": {
   "display_name": "Python 3",
   "language": "python",
   "name": "python3"
  },
  "language_info": {
   "codemirror_mode": {
    "name": "ipython",
    "version": 3
   },
   "file_extension": ".py",
   "mimetype": "text/x-python",
   "name": "python",
   "nbconvert_exporter": "python",
   "pygments_lexer": "ipython3",
   "version": "3.7.4"
  }
 },
 "nbformat": 4,
 "nbformat_minor": 2
}
