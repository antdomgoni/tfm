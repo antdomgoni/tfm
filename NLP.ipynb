{
 "cells": [
  {
   "cell_type": "code",
   "execution_count": 91,
   "metadata": {
    "collapsed": true
   },
   "outputs": [
    {
     "name": "stdout",
     "output_type": "stream",
     "text": [
      "Collecting googletrans\n",
      "Collecting httpx==0.13.3 (from googletrans)\n",
      "  Using cached https://files.pythonhosted.org/packages/54/b4/698b284c6aed4d7c2b4fe3ba5df1fcf6093612423797e76fbb24890dd22f/httpx-0.13.3-py3-none-any.whl\n",
      "Collecting rfc3986<2,>=1.3 (from httpx==0.13.3->googletrans)\n",
      "  Using cached https://files.pythonhosted.org/packages/78/be/7b8b99fd74ff5684225f50dd0e865393d2265656ef3b4ba9eaaaffe622b8/rfc3986-1.4.0-py2.py3-none-any.whl\n",
      "Collecting idna==2.* (from httpx==0.13.3->googletrans)\n",
      "\u001b[?25l  Downloading https://files.pythonhosted.org/packages/a2/38/928ddce2273eaa564f6f50de919327bf3a00f091b5baba8dfa9460f3a8a8/idna-2.10-py2.py3-none-any.whl (58kB)\n",
      "\u001b[K     |████████████████████████████████| 61kB 1.9MB/s eta 0:00:01\n",
      "\u001b[?25hCollecting certifi (from httpx==0.13.3->googletrans)\n",
      "\u001b[?25l  Downloading https://files.pythonhosted.org/packages/5e/c4/6c4fe722df5343c33226f0b4e0bb042e4dc13483228b4718baf286f86d87/certifi-2020.6.20-py2.py3-none-any.whl (156kB)\n",
      "\u001b[K     |████████████████████████████████| 163kB 13.6MB/s eta 0:00:01\n",
      "\u001b[?25hCollecting sniffio (from httpx==0.13.3->googletrans)\n",
      "  Using cached https://files.pythonhosted.org/packages/b3/82/4bd4b7d9c0d1dc0fbfbc2a1e00138e7f3ab85bc239358fe9b78aa2ab586d/sniffio-1.1.0-py3-none-any.whl\n",
      "Collecting chardet==3.* (from httpx==0.13.3->googletrans)\n",
      "  Using cached https://files.pythonhosted.org/packages/bc/a9/01ffebfb562e4274b6487b4bb1ddec7ca55ec7510b22e4c51f14098443b8/chardet-3.0.4-py2.py3-none-any.whl\n",
      "Collecting hstspreload (from httpx==0.13.3->googletrans)\n",
      "  Using cached https://files.pythonhosted.org/packages/25/11/db4dd94cf687b5f201cbfcf6d4165ad3b32f6205bb5950d1861d96826f65/hstspreload-2020.7.22-py3-none-any.whl\n",
      "Collecting httpcore==0.9.* (from httpx==0.13.3->googletrans)\n",
      "  Using cached https://files.pythonhosted.org/packages/dd/d5/e4ff9318693ac6101a2095e580908b591838c6f33df8d3ee8dd953ba96a8/httpcore-0.9.1-py3-none-any.whl\n",
      "Collecting h11<0.10,>=0.8 (from httpcore==0.9.*->httpx==0.13.3->googletrans)\n",
      "  Using cached https://files.pythonhosted.org/packages/5a/fd/3dad730b0f95e78aeeb742f96fa7bbecbdd56a58e405d3da440d5bfb90c6/h11-0.9.0-py2.py3-none-any.whl\n",
      "Collecting h2==3.* (from httpcore==0.9.*->httpx==0.13.3->googletrans)\n",
      "  Using cached https://files.pythonhosted.org/packages/25/de/da019bcc539eeab02f6d45836f23858ac467f584bfec7a526ef200242afe/h2-3.2.0-py2.py3-none-any.whl\n",
      "Collecting hyperframe<6,>=5.2.0 (from h2==3.*->httpcore==0.9.*->httpx==0.13.3->googletrans)\n",
      "  Using cached https://files.pythonhosted.org/packages/19/0c/bf88182bcb5dce3094e2f3e4fe20db28a9928cb7bd5b08024030e4b140db/hyperframe-5.2.0-py2.py3-none-any.whl\n",
      "Collecting hpack<4,>=3.0 (from h2==3.*->httpcore==0.9.*->httpx==0.13.3->googletrans)\n",
      "  Using cached https://files.pythonhosted.org/packages/8a/cc/e53517f4a1e13f74776ca93271caef378dadec14d71c61c949d759d3db69/hpack-3.0.0-py2.py3-none-any.whl\n",
      "Installing collected packages: rfc3986, idna, certifi, sniffio, chardet, hstspreload, h11, hyperframe, hpack, h2, httpcore, httpx, googletrans\n",
      "Successfully installed certifi-2020.6.20 chardet-3.0.4 googletrans-3.0.0 h11-0.9.0 h2-3.2.0 hpack-3.0.0 hstspreload-2020.7.22 httpcore-0.9.1 httpx-0.13.3 hyperframe-5.2.0 idna-2.10 rfc3986-1.4.0 sniffio-1.1.0\n",
      "\u001b[33mWARNING: Target directory /opt/anaconda3/lib/python3.7/site-packages/chardet-3.0.4.dist-info already exists. Specify --upgrade to force replacement.\u001b[0m\n",
      "\u001b[33mWARNING: Target directory /opt/anaconda3/lib/python3.7/site-packages/chardet already exists. Specify --upgrade to force replacement.\u001b[0m\n",
      "\u001b[33mWARNING: Target directory /opt/anaconda3/lib/python3.7/site-packages/idna already exists. Specify --upgrade to force replacement.\u001b[0m\n",
      "\u001b[33mWARNING: Target directory /opt/anaconda3/lib/python3.7/site-packages/certifi already exists. Specify --upgrade to force replacement.\u001b[0m\n",
      "\u001b[33mWARNING: Target directory /opt/anaconda3/lib/python3.7/site-packages/bin already exists. Specify --upgrade to force replacement.\u001b[0m\n"
     ]
    }
   ],
   "source": [
    "#!pip3 install --target=/opt/anaconda3/lib/python3.7/site-packages/ googletrans\n"
   ]
  },
  {
   "cell_type": "code",
   "execution_count": 1,
   "metadata": {},
   "outputs": [],
   "source": [
    "class NLP:\n",
    "        \n",
    "    def __init__(self):\n",
    "        pass\n",
    "        \n",
    "    def eliminar_signos(self, text):\n",
    "        text  = \"\".join([char for char in text if char not in string.punctuation])\n",
    "        text = re.sub('[0-9]+', '', text)\n",
    "        return text\n",
    "    \n",
    "    def tokenization(self, text):\n",
    "        text = re.split('\\W+', text)\n",
    "        return text\n",
    "    \n",
    "    def palabras_vacias(self):\n",
    "        return nltk.corpus.stopwords.words('spanish')\n",
    "    \n",
    "    def quitar_palabras_vacias(self,text):\n",
    "        text = [palabra for palabra in text if palabra not in self.palabras_vacias()]\n",
    "        return text\n",
    "\n",
    "    \n",
    "    def traduccion_tweets(self, df_tweets, googleTranslate):\n",
    "        translate = ''\n",
    "        i=0\n",
    "        for tweet in df_tweets['text_novacias']:\n",
    "            language = googleTranslate.detect(tweet).lang\n",
    "            if language != 'es':\n",
    "                print(\"--Traducción--\",i)\n",
    "                translate = googleTranslate.translate(tweet,dest='es').text\n",
    "                df_tweets[i,\"text\"] = translate\n",
    "                df_tweets[i,\"idioma\"] = language\n",
    "            i+=1\n",
    "        return df_tweets\n",
    "        \n",
    "    def analisis_2(self,df_tweets):\n",
    "        polarity=0\n",
    "        total = 0\n",
    "        tweetPositivo = []\n",
    "        tweetNeutro = []\n",
    "        tweetNegativo = []\n",
    "        for index,tweet in df_tweets.iterrows():\n",
    "\n",
    "            analysis = TextBlob(tweet['text'])\n",
    "            polarity += analysis.sentiment.polarity\n",
    "            if (analysis.sentiment.polarity ==0):\n",
    "                tweetNeutro.append(tweet)\n",
    "                tweet['valor'] = 0\n",
    "            elif (analysis.sentiment.polarity < 0):\n",
    "                tweetNegativo.append(tweet)\n",
    "                tweet['valor'] = -1\n",
    "            elif (analysis.sentiment.polarity > 0):\n",
    "                tweetPositivo.append(tweet)\n",
    "                tweet['valor'] = 1\n",
    "\n",
    "            df_tweets.loc[index,'valor'] = tweet['valor']\n",
    "\n",
    "            #df_tweets_final=df_tweets_final.append(tweet)\n",
    "            total += 1\n",
    "\n",
    "\n",
    "        return df_tweets\n"
   ]
  },
  {
   "cell_type": "code",
   "execution_count": null,
   "metadata": {},
   "outputs": [],
   "source": []
  },
  {
   "cell_type": "code",
   "execution_count": null,
   "metadata": {},
   "outputs": [],
   "source": []
  }
 ],
 "metadata": {
  "kernelspec": {
   "display_name": "Python 3",
   "language": "python",
   "name": "python3"
  },
  "language_info": {
   "codemirror_mode": {
    "name": "ipython",
    "version": 3
   },
   "file_extension": ".py",
   "mimetype": "text/x-python",
   "name": "python",
   "nbconvert_exporter": "python",
   "pygments_lexer": "ipython3",
   "version": "3.7.4"
  }
 },
 "nbformat": 4,
 "nbformat_minor": 2
}
