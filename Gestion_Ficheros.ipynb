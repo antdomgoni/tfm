{
 "cells": [
  {
   "cell_type": "markdown",
   "metadata": {},
   "source": [
    "# Gestión de Ficheros - Class"
   ]
  },
  {
   "cell_type": "code",
   "execution_count": 1,
   "metadata": {},
   "outputs": [],
   "source": [
    "class File_Manage:\n",
    "            \n",
    "    def __init__(self):\n",
    "        pass\n",
    "    \n",
    "    def initValues(self, file, pattern):\n",
    "        self.file = file\n",
    "        self.pattern = pattern\n",
    "        \n",
    "    def getFile(self):\n",
    "        return self.file\n",
    "    \n",
    "    def setFile(self, file):\n",
    "        self.file = file\n",
    "    \n",
    "    def getPattern(self):\n",
    "        return self.pattern\n",
    "    \n",
    "    def setPattern(self, pattern):\n",
    "        self.file = pattern\n",
    "    \n",
    "    \n",
    "    ## Escritura de CSVs\n",
    "    def writeCSV(self, dataframe, file):\n",
    "        dataframe.to_csv(self.file, index=False)\n",
    "    \n",
    "    ## Lectura de CSVs\n",
    "    def readCSV(self, dataframe,file):\n",
    "        dataframe = pd.read_csv(self.file,sep=',', index_col=None)\n",
    "        return dataframe\n",
    "\n",
    "    ## Lectura de Tweets\n",
    "    def read_Tweets(self, file):\n",
    "        files =[]\n",
    "        df = creacion_DataFrame()\n",
    "        tweets = readCSV(df,self.file)\n",
    "        files.append(tweets)\n",
    "        df_tweets = pd.concat(files)\n",
    "        return df_tweets\n",
    "\n",
    "    ## Lectura de todos los Tweets\n",
    "    def read_all_Tweets(self, pattern):\n",
    "        all_files = glob.glob(self.pattern)\n",
    "        files =[]\n",
    "        df = creacion_DataFrame()\n",
    "        for file in all_files:\n",
    "            tweets = readCSV(df,file)\n",
    "            files.append(tweets)\n",
    "\n",
    "        df_tweets = pd.concat(files)\n",
    "        return df_tweets\n"
   ]
  },
  {
   "cell_type": "code",
   "execution_count": null,
   "metadata": {},
   "outputs": [],
   "source": []
  },
  {
   "cell_type": "code",
   "execution_count": null,
   "metadata": {},
   "outputs": [],
   "source": []
  },
  {
   "cell_type": "code",
   "execution_count": null,
   "metadata": {},
   "outputs": [],
   "source": []
  },
  {
   "cell_type": "code",
   "execution_count": null,
   "metadata": {},
   "outputs": [],
   "source": []
  },
  {
   "cell_type": "markdown",
   "metadata": {},
   "source": [
    "## Lectura y Escritura de CSVs"
   ]
  },
  {
   "cell_type": "code",
   "execution_count": 2,
   "metadata": {},
   "outputs": [],
   "source": [
    "def writeCSV(dataframe,file):\n",
    "    dataframe.to_csv(file, index=False)"
   ]
  },
  {
   "cell_type": "code",
   "execution_count": 3,
   "metadata": {},
   "outputs": [],
   "source": [
    "def readCSV(dataframe,file):\n",
    "    dataframe = pd.read_csv(file,sep=',', index_col=None)\n",
    "    return dataframe"
   ]
  },
  {
   "cell_type": "markdown",
   "metadata": {},
   "source": [
    "## Lectura de Tweets"
   ]
  },
  {
   "cell_type": "code",
   "execution_count": 4,
   "metadata": {},
   "outputs": [],
   "source": [
    "def read_all_Tweets():\n",
    "    all_files = glob.glob('CSVs/info_tweets_el_cor*.csv')\n",
    "    files =[]\n",
    "    df = creacion_DataFrame()\n",
    "    for file in all_files:\n",
    "        tweets = readCSV(df,file)\n",
    "        files.append(tweets)\n",
    "\n",
    "    df_tweets = pd.concat(files)\n",
    "    return df_tweets\n"
   ]
  },
  {
   "cell_type": "markdown",
   "metadata": {},
   "source": [
    "## Lectura de Tweets de un ficher\n"
   ]
  },
  {
   "cell_type": "code",
   "execution_count": 5,
   "metadata": {},
   "outputs": [],
   "source": [
    "def read_Tweets(file):\n",
    "    files =[]\n",
    "    df = creacion_DataFrame()\n",
    "    tweets = readCSV(df,file)\n",
    "    files.append(tweets)\n",
    "    df_tweets = pd.concat(files)\n",
    "    return df_tweets\n"
   ]
  },
  {
   "cell_type": "code",
   "execution_count": null,
   "metadata": {},
   "outputs": [],
   "source": []
  },
  {
   "cell_type": "code",
   "execution_count": null,
   "metadata": {},
   "outputs": [],
   "source": []
  }
 ],
 "metadata": {
  "kernelspec": {
   "display_name": "Python 3",
   "language": "python",
   "name": "python3"
  },
  "language_info": {
   "codemirror_mode": {
    "name": "ipython",
    "version": 3
   },
   "file_extension": ".py",
   "mimetype": "text/x-python",
   "name": "python",
   "nbconvert_exporter": "python",
   "pygments_lexer": "ipython3",
   "version": "3.7.4"
  }
 },
 "nbformat": 4,
 "nbformat_minor": 2
}
