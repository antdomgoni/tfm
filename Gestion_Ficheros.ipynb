{
 "cells": [
  {
   "cell_type": "markdown",
   "metadata": {},
   "source": [
    "# Gestión de Ficheros"
   ]
  },
  {
   "cell_type": "markdown",
   "metadata": {},
   "source": [
    "## Lectura y Escritura de CSVs"
   ]
  },
  {
   "cell_type": "code",
   "execution_count": null,
   "metadata": {},
   "outputs": [],
   "source": [
    "def writeCSV(dataframe,file):\n",
    "    dataframe.to_csv(file, index=False)"
   ]
  },
  {
   "cell_type": "code",
   "execution_count": null,
   "metadata": {},
   "outputs": [],
   "source": [
    "def readCSV(dataframe,file):\n",
    "    dataframe = pd.read_csv(file,sep=',', index_col=None)\n",
    "    return dataframe"
   ]
  },
  {
   "cell_type": "markdown",
   "metadata": {},
   "source": [
    "## Lectura de Tweets"
   ]
  },
  {
   "cell_type": "code",
   "execution_count": 1,
   "metadata": {},
   "outputs": [],
   "source": [
    "def read_all_Tweets():\n",
    "    all_files = glob.glob('CSVs/info_tweets_el_cor*.csv')\n",
    "    files =[]\n",
    "    df = creacion_DataFrame()\n",
    "    for file in all_files:\n",
    "        tweets = readCSV(df,file)\n",
    "        files.append(tweets)\n",
    "\n",
    "    df_tweets = pd.concat(files)\n",
    "    return df_tweets\n"
   ]
  },
  {
   "cell_type": "markdown",
   "metadata": {},
   "source": [
    "## Lectura de Tweets de un ficher\n"
   ]
  },
  {
   "cell_type": "code",
   "execution_count": null,
   "metadata": {},
   "outputs": [],
   "source": [
    "def read_Tweets(file):\n",
    "    files =[]\n",
    "    df = creacion_DataFrame()\n",
    "    tweets = readCSV(df,file)\n",
    "    files.append(tweets)\n",
    "    df_tweets = pd.concat(files)\n",
    "    return df_tweets\n"
   ]
  }
 ],
 "metadata": {
  "kernelspec": {
   "display_name": "Python 3",
   "language": "python",
   "name": "python3"
  },
  "language_info": {
   "codemirror_mode": {
    "name": "ipython",
    "version": 3
   },
   "file_extension": ".py",
   "mimetype": "text/x-python",
   "name": "python",
   "nbconvert_exporter": "python",
   "pygments_lexer": "ipython3",
   "version": "3.7.4"
  }
 },
 "nbformat": 4,
 "nbformat_minor": 2
}
