{
 "cells": [
  {
   "cell_type": "code",
   "execution_count": 19,
   "metadata": {
    "collapsed": true
   },
   "outputs": [
    {
     "name": "stdout",
     "output_type": "stream",
     "text": [
      "Collecting wordcloud\n",
      "\u001b[?25l  Downloading https://files.pythonhosted.org/packages/7e/ea/e531ac225713af626d1d2d108ec4774ffdde54ac83c5c863b42a72e4a164/wordcloud-1.7.0-cp37-cp37m-macosx_10_6_x86_64.whl (160kB)\n",
      "\u001b[K     |████████████████████████████████| 163kB 2.4MB/s eta 0:00:01\n",
      "\u001b[?25hCollecting matplotlib (from wordcloud)\n",
      "\u001b[?25l  Downloading https://files.pythonhosted.org/packages/c7/ba/f0acf68139ba7e733e8f84618affa21fabdbbe75df51bd2089d969db9581/matplotlib-3.3.0-1-cp37-cp37m-macosx_10_9_x86_64.whl (11.4MB)\n",
      "\u001b[K     |████████████████████████████████| 11.4MB 7.4MB/s eta 0:00:01\n",
      "\u001b[?25hCollecting numpy>=1.6.1 (from wordcloud)\n",
      "\u001b[?25l  Downloading https://files.pythonhosted.org/packages/ad/0b/c8b1383f0c43eabf925172ce850bf2224ede9fc351e8acf0ddd66ff567ff/numpy-1.19.1-cp37-cp37m-macosx_10_9_x86_64.whl (15.3MB)\n",
      "\u001b[K     |████████████████████████████████| 15.3MB 22.9MB/s eta 0:00:01    |███▊                            | 1.8MB 22.9MB/s eta 0:00:01\n",
      "\u001b[?25hCollecting pillow (from wordcloud)\n",
      "\u001b[?25l  Downloading https://files.pythonhosted.org/packages/61/c1/efce2db357db76dc3a65e9a0982cd6501648685e64903fda590ed79b1ac8/Pillow-7.2.0-cp37-cp37m-macosx_10_10_x86_64.whl (2.2MB)\n",
      "\u001b[K     |████████████████████████████████| 2.2MB 19.7MB/s eta 0:00:01\n",
      "\u001b[?25hCollecting cycler>=0.10 (from matplotlib->wordcloud)\n",
      "  Using cached https://files.pythonhosted.org/packages/f7/d2/e07d3ebb2bd7af696440ce7e754c59dd546ffe1bbe732c8ab68b9c834e61/cycler-0.10.0-py2.py3-none-any.whl\n",
      "Collecting pyparsing!=2.0.4,!=2.1.2,!=2.1.6,>=2.0.3 (from matplotlib->wordcloud)\n",
      "\u001b[?25l  Downloading https://files.pythonhosted.org/packages/8a/bb/488841f56197b13700afd5658fc279a2025a39e22449b7cf29864669b15d/pyparsing-2.4.7-py2.py3-none-any.whl (67kB)\n",
      "\u001b[K     |████████████████████████████████| 71kB 16.5MB/s eta 0:00:01\n",
      "\u001b[?25hCollecting python-dateutil>=2.1 (from matplotlib->wordcloud)\n",
      "  Using cached https://files.pythonhosted.org/packages/d4/70/d60450c3dd48ef87586924207ae8907090de0b306af2bce5d134d78615cb/python_dateutil-2.8.1-py2.py3-none-any.whl\n",
      "Collecting kiwisolver>=1.0.1 (from matplotlib->wordcloud)\n",
      "\u001b[?25l  Downloading https://files.pythonhosted.org/packages/81/c5/9831f281c6fb57945e83fdf39ff036cacfdc84aa1988bb3150b330533050/kiwisolver-1.2.0-cp37-cp37m-macosx_10_9_x86_64.whl (60kB)\n",
      "\u001b[K     |████████████████████████████████| 61kB 14.4MB/s eta 0:00:01\n",
      "\u001b[?25hCollecting six (from cycler>=0.10->matplotlib->wordcloud)\n",
      "  Using cached https://files.pythonhosted.org/packages/ee/ff/48bde5c0f013094d729fe4b0316ba2a24774b3ff1c52d924a8a4cb04078a/six-1.15.0-py2.py3-none-any.whl\n",
      "Installing collected packages: six, cycler, pyparsing, python-dateutil, pillow, kiwisolver, numpy, matplotlib, wordcloud\n",
      "Successfully installed cycler-0.10.0 kiwisolver-1.2.0 matplotlib-3.3.0 numpy-1.19.1 pillow-7.2.0 pyparsing-2.4.7 python-dateutil-2.8.1 six-1.15.0 wordcloud-1.7.0\n",
      "\u001b[33mWARNING: Target directory /opt/anaconda3/lib/python3.7/site-packages/kiwisolver.cpython-37m-darwin.so already exists. Specify --upgrade to force replacement.\u001b[0m\n",
      "\u001b[33mWARNING: Target directory /opt/anaconda3/lib/python3.7/site-packages/six-1.15.0.dist-info already exists. Specify --upgrade to force replacement.\u001b[0m\n",
      "\u001b[33mWARNING: Target directory /opt/anaconda3/lib/python3.7/site-packages/pylab.py already exists. Specify --upgrade to force replacement.\u001b[0m\n",
      "\u001b[33mWARNING: Target directory /opt/anaconda3/lib/python3.7/site-packages/mpl_toolkits already exists. Specify --upgrade to force replacement.\u001b[0m\n",
      "\u001b[33mWARNING: Target directory /opt/anaconda3/lib/python3.7/site-packages/__pycache__ already exists. Specify --upgrade to force replacement.\u001b[0m\n",
      "\u001b[33mWARNING: Target directory /opt/anaconda3/lib/python3.7/site-packages/numpy already exists. Specify --upgrade to force replacement.\u001b[0m\n",
      "\u001b[33mWARNING: Target directory /opt/anaconda3/lib/python3.7/site-packages/PIL already exists. Specify --upgrade to force replacement.\u001b[0m\n",
      "\u001b[33mWARNING: Target directory /opt/anaconda3/lib/python3.7/site-packages/six.py already exists. Specify --upgrade to force replacement.\u001b[0m\n",
      "\u001b[33mWARNING: Target directory /opt/anaconda3/lib/python3.7/site-packages/cycler.py already exists. Specify --upgrade to force replacement.\u001b[0m\n",
      "\u001b[33mWARNING: Target directory /opt/anaconda3/lib/python3.7/site-packages/matplotlib already exists. Specify --upgrade to force replacement.\u001b[0m\n",
      "\u001b[33mWARNING: Target directory /opt/anaconda3/lib/python3.7/site-packages/pyparsing.py already exists. Specify --upgrade to force replacement.\u001b[0m\n",
      "\u001b[33mWARNING: Target directory /opt/anaconda3/lib/python3.7/site-packages/dateutil already exists. Specify --upgrade to force replacement.\u001b[0m\n",
      "\u001b[33mWARNING: Target directory /opt/anaconda3/lib/python3.7/site-packages/bin already exists. Specify --upgrade to force replacement.\u001b[0m\n"
     ]
    }
   ],
   "source": [
    "#!pip3 install --target=/opt/anaconda3/lib/python3.7/site-packages/ wordcloud\n"
   ]
  },
  {
   "cell_type": "code",
   "execution_count": 1,
   "metadata": {},
   "outputs": [],
   "source": [
    "class NLP:\n",
    "        \n",
    "    def __init__(self):\n",
    "        pass\n",
    "        \n",
    "    def eliminar_signos(self, text):\n",
    "        text  = \"\".join([char for char in text if char not in string.punctuation])\n",
    "        text = re.sub('[0-9]+', '', text)\n",
    "        text = re.sub('@[A-Za-z0–9]+', '', text) #b orrado menciones\n",
    "        text = re.sub('#', '', text) # borrado '#' \n",
    "        text = re.sub('RT[\\s]+', '', text) # borrado RT\n",
    "        text = re.sub('https?:\\/\\/\\S+', '', text) # borrado url\n",
    "        return text\n",
    "    \n",
    "    def tokenization(self, text):\n",
    "        text = re.split('\\W+', text)\n",
    "        return text\n",
    "    \n",
    "    def palabras_vacias(self):\n",
    "        return nltk.corpus.stopwords.words('spanish')\n",
    "    \n",
    "    def quitar_palabras_vacias(self,text):\n",
    "        text = [palabra for palabra in text if palabra not in self.palabras_vacias()]\n",
    "        return text\n",
    "\n",
    "        \n",
    "    def analisis(self,df_tweets):\n",
    "        polarity=0\n",
    "        total = 0\n",
    "        tweetPositivo = []\n",
    "        tweetNeutro = []\n",
    "        tweetNegativo = []\n",
    "        for index,tweet in df_tweets.iterrows():\n",
    "\n",
    "            analysis = TextBlob(tweet['Tweet_novacias'])\n",
    "            polarity += analysis.sentiment.polarity\n",
    "            if (analysis.sentiment.polarity ==0):\n",
    "                tweetNeutro.append(tweet)\n",
    "                tweet['valor'] = 0\n",
    "            elif (analysis.sentiment.polarity < 0):\n",
    "                tweetNegativo.append(tweet)\n",
    "                tweet['valor'] = -1\n",
    "            elif (analysis.sentiment.polarity > 0):\n",
    "                tweetPositivo.append(tweet)\n",
    "                tweet['valor'] = 1\n",
    "\n",
    "            df_tweets.loc[index,'valor'] = tweet['valor']\n",
    "            df_tweets.loc[index,'subjetividad'] = analysis.sentiment.subjectivity\n",
    "            df_tweets.loc[index,'objetividad'] = analysis.sentiment.polarity\n",
    "\n",
    "            #df_tweets_final=df_tweets_final.append(tweet)\n",
    "            total += 1\n",
    "\n",
    "\n",
    "        return df_tweets\n",
    "    \n",
    "    def nube_palabras(self, df_tweets):\n",
    "        allWords = ' '.join([twts for twts in df_tweets['Tweet_novacias']])\n",
    "        wordCloud = WordCloud(width=1000, height=750, random_state=21, max_font_size=300).generate(allWords)\n",
    "        plt.imshow(wordCloud, interpolation=\"bilinear\")\n",
    "        plt.axis('off')\n",
    "        plt.show()"
   ]
  },
  {
   "cell_type": "code",
   "execution_count": null,
   "metadata": {},
   "outputs": [],
   "source": []
  },
  {
   "cell_type": "code",
   "execution_count": null,
   "metadata": {},
   "outputs": [],
   "source": []
  }
 ],
 "metadata": {
  "kernelspec": {
   "display_name": "Python 3",
   "language": "python",
   "name": "python3"
  },
  "language_info": {
   "codemirror_mode": {
    "name": "ipython",
    "version": 3
   },
   "file_extension": ".py",
   "mimetype": "text/x-python",
   "name": "python",
   "nbconvert_exporter": "python",
   "pygments_lexer": "ipython3",
   "version": "3.7.4"
  }
 },
 "nbformat": 4,
 "nbformat_minor": 2
}
