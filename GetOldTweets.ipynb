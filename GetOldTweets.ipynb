{
 "cells": [
  {
   "cell_type": "markdown",
   "metadata": {},
   "source": [
    "# GetOldTweets"
   ]
  },
  {
   "cell_type": "code",
   "execution_count": null,
   "metadata": {},
   "outputs": [],
   "source": [
    "class GoT:\n",
    "    \n",
    "    def __init__(self, calendar):\n",
    "        self.calendar = calendar\n",
    "        \n",
    "    def getCalendar(self):\n",
    "        return self.calendar\n",
    "\n",
    "    def setCalendar(self, calendar):\n",
    "        self.calendar = calendar\n",
    "    \n",
    "    def get_info_tweets(data_got, since, until):\n",
    "        tweetCriteria = got.manager.TweetCriteria().setQuerySearch(\"\\\"el corte ingles\\\"\")\\\n",
    "                                               .setSince(since)\\\n",
    "                                               .setUntil(until)\n",
    "        tweets = got.manager.TweetManager.getTweets(tweetCriteria)\n",
    "        for tweet in tweets:\n",
    "            info_tweet = {}    \n",
    "            info_tweet[\"id\"]=tweet.id\n",
    "            info_tweet[\"date\"]=tweet.date\n",
    "            info_tweet[\"username\"]=tweet.username\n",
    "            info_tweet[\"text\"]=tweet.text\n",
    "            info_tweet[\"geo\"]=tweet.geo\n",
    "            data_got.append(info_tweet)\n",
    "\n",
    "\n",
    "        df_tweets_aux = pd.DataFrame(data_got)    \n",
    "        print(since,until)\n",
    "        time.sleep(60*5)\n",
    "        return df_tweets_aux\n",
    "\n",
    "\n",
    "    def get_Tweets(calendar):\n",
    "        i=0\n",
    "        df_tweets_time = pd.DataFrame()\n",
    "        while i in range(len(calendar)): \n",
    "            df_tweets_time=df_tweets_time.append(get_info_tweets([],calendar[i] , calendar[i+1]))\n",
    "            print(i,i+1)\n",
    "            i=i+2\n",
    "        return df_tweets_time\n",
    "\n",
    "    \n",
    "    "
   ]
  },
  {
   "cell_type": "code",
   "execution_count": null,
   "metadata": {},
   "outputs": [],
   "source": []
  },
  {
   "cell_type": "code",
   "execution_count": null,
   "metadata": {},
   "outputs": [],
   "source": []
  },
  {
   "cell_type": "code",
   "execution_count": 4,
   "metadata": {},
   "outputs": [],
   "source": [
    "import pandas as pd\n",
    "import time\n",
    "import GetOldTweets3 as got"
   ]
  },
  {
   "cell_type": "code",
   "execution_count": 5,
   "metadata": {},
   "outputs": [],
   "source": [
    "def get_info_tweets(data_got, since, until):\n",
    "    tweetCriteria = got.manager.TweetCriteria().setQuerySearch(\"\\\"el corte ingles\\\"\")\\\n",
    "                                           .setSince(since)\\\n",
    "                                           .setUntil(until)\n",
    "    tweets = got.manager.TweetManager.getTweets(tweetCriteria)\n",
    "    for tweet in tweets:\n",
    "        info_tweet = {}    \n",
    "        info_tweet[\"id\"]=tweet.id\n",
    "        info_tweet[\"date\"]=tweet.date\n",
    "        info_tweet[\"username\"]=tweet.username\n",
    "        info_tweet[\"text\"]=tweet.text\n",
    "        info_tweet[\"geo\"]=tweet.geo\n",
    "        data_got.append(info_tweet)\n",
    "\n",
    "    \n",
    "    df_tweets_aux = pd.DataFrame(data_got)    \n",
    "    print(since,until)\n",
    "    time.sleep(60*5)\n",
    "    return df_tweets_aux\n",
    "    "
   ]
  },
  {
   "cell_type": "code",
   "execution_count": 6,
   "metadata": {},
   "outputs": [],
   "source": [
    "def get_Tweets(calendar):\n",
    "    i=0\n",
    "    df_tweets_time = pd.DataFrame()\n",
    "    while i in range(len(calendar)): \n",
    "        df_tweets_time=df_tweets_time.append(get_info_tweets([],calendar[i] , calendar[i+1]))\n",
    "        print(i,i+1)\n",
    "        i=i+2\n",
    "    return df_tweets_time\n"
   ]
  },
  {
   "cell_type": "code",
   "execution_count": null,
   "metadata": {},
   "outputs": [],
   "source": []
  }
 ],
 "metadata": {
  "kernelspec": {
   "display_name": "Python 3",
   "language": "python",
   "name": "python3"
  },
  "language_info": {
   "codemirror_mode": {
    "name": "ipython",
    "version": 3
   },
   "file_extension": ".py",
   "mimetype": "text/x-python",
   "name": "python",
   "nbconvert_exporter": "python",
   "pygments_lexer": "ipython3",
   "version": "3.7.4"
  }
 },
 "nbformat": 4,
 "nbformat_minor": 2
}
