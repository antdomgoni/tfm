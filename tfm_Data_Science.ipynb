{
 "cells": [
  {
   "cell_type": "code",
   "execution_count": null,
   "metadata": {},
   "outputs": [],
   "source": [
    "# %load Prueba1.ipynb\n",
    "#%run Monitoring\\ Twitter.ipynb"
   ]
  },
  {
   "cell_type": "code",
   "execution_count": 65,
   "metadata": {},
   "outputs": [],
   "source": [
    "import sys\n",
    "import pandas as pd\n",
    "import GetOldTweets3 as got\n",
    "#from ipynb.fs.full.GetOldTweets import *\n"
   ]
  },
  {
   "cell_type": "code",
   "execution_count": 72,
   "metadata": {},
   "outputs": [],
   "source": [
    "%run Metodos_Propios.ipynb\n",
    "%run Gestion_Ficheros.ipynb\n",
    "%run GetOldTweets.ipynb\n"
   ]
  },
  {
   "cell_type": "markdown",
   "metadata": {},
   "source": [
    "# Método Principal - TFM Data Science"
   ]
  },
  {
   "cell_type": "code",
   "execution_count": 73,
   "metadata": {
    "collapsed": true
   },
   "outputs": [
    {
     "name": "stdout",
     "output_type": "stream",
     "text": [
      "['2020-05-01', '2020-05-31', '2020-06-01', '2020-06-30']\n",
      "An error occured during an HTTP request: HTTP Error 429: Too Many Requests\n",
      "Try to open in browser: https://twitter.com/search?q=%22el%20corte%20ingles%22%20since%3A2020-05-01%20until%3A2020-05-31&src=typd\n"
     ]
    },
    {
     "ename": "SystemExit",
     "evalue": "",
     "output_type": "error",
     "traceback": [
      "An exception has occurred, use %tb to see the full traceback.\n",
      "\u001b[0;31mSystemExit\u001b[0m\n"
     ]
    },
    {
     "name": "stderr",
     "output_type": "stream",
     "text": [
      "/opt/anaconda3/lib/python3.7/site-packages/IPython/core/interactiveshell.py:3334: UserWarning: To exit: use 'exit', 'quit', or Ctrl-D.\n",
      "  warn(\"To exit: use 'exit', 'quit', or Ctrl-D.\", stacklevel=1)\n"
     ]
    }
   ],
   "source": [
    "if __name__ == '__main__':\n",
    "    # Definición de variables\n",
    "    df_tweets, df_tweets_time = creacion_DataFrame()\n",
    "    calendario = calendar()\n",
    "    \n",
    "    #Acceso a Twitter\n",
    "    api = acceso_Twitter() \n",
    "    \n",
    "    #Lectura de ficheros para ir más rápido ubicados en CSVs\n",
    "    #tweets = read_all_Tweets() \n",
    "    \n",
    "    print(calendario)\n",
    "    #Obtención por GetOldTweets\n",
    "    df_tweets = get_Tweets(calendario)\n",
    "    print(len(tweets))\n",
    "    \n",
    "    #Pasando el algoritmo de NLP para obtener el análisis de sentimiento\n",
    "    #Generación de CSVs para el CdM"
   ]
  },
  {
   "cell_type": "code",
   "execution_count": null,
   "metadata": {},
   "outputs": [],
   "source": []
  },
  {
   "cell_type": "code",
   "execution_count": null,
   "metadata": {},
   "outputs": [],
   "source": []
  }
 ],
 "metadata": {
  "kernelspec": {
   "display_name": "Python 3",
   "language": "python",
   "name": "python3"
  },
  "language_info": {
   "codemirror_mode": {
    "name": "ipython",
    "version": 3
   },
   "file_extension": ".py",
   "mimetype": "text/x-python",
   "name": "python",
   "nbconvert_exporter": "python",
   "pygments_lexer": "ipython3",
   "version": "3.7.4"
  }
 },
 "nbformat": 4,
 "nbformat_minor": 2
}
