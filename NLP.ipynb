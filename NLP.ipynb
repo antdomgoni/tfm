{
 "cells": [
  {
   "cell_type": "code",
   "execution_count": 1,
   "metadata": {},
   "outputs": [],
   "source": [
    "import pandas as pd\n",
    "from textblob import TextBlob\n",
    "import sys\n",
    "import matplotlib.pyplot as plt"
   ]
  },
  {
   "cell_type": "markdown",
   "metadata": {},
   "source": [
    "# Limpieza de los datos"
   ]
  },
  {
   "cell_type": "markdown",
   "metadata": {},
   "source": [
    "# Ejemplos de NLP Tweets"
   ]
  },
  {
   "cell_type": "code",
   "execution_count": 1,
   "metadata": {},
   "outputs": [],
   "source": [
    "def analisis(df_tweets, positivo, neutral, negativo):\n",
    "    polarity=0\n",
    "    total = 0\n",
    "    tweetPositivo = []\n",
    "    tweetNeutro = []\n",
    "    tweetNegativo = []\n",
    "    sentiment = []\n",
    "    for tweet in df_tweets['text']:\n",
    "\n",
    "        analysis = TextBlob(tweet)\n",
    "        polarity += analysis.sentiment.polarity\n",
    "\n",
    "        if (analysis.sentiment.polarity ==0):\n",
    "            neutral +=1\n",
    "            tweetNeutro.append(tweet)\n",
    "        elif (analysis.sentiment.polarity < 0):\n",
    "            negativo +=1\n",
    "            tweetNegativo.append(tweet)\n",
    "        elif (analysis.sentiment.polarity > 0):\n",
    "            positivo +=1\n",
    "            tweetPositivo.append(tweet)\n",
    "        total +=1\n",
    "\n",
    "    positivo = 100*float(positivo)/total\n",
    "    print('Positivo:', positivo,'%')\n",
    "    negativo = 100*float(negativo)/total\n",
    "    print('Negativo:', negativo,'%')\n",
    "    neutral = 100*float(neutral)/total\n",
    "    print('Neutral:', neutral,'%')\n",
    "    sentiment.append(positivo)\n",
    "    sentiment.append(neutral)\n",
    "    sentiment.append(negativo)\n",
    "    return sentiment\n"
   ]
  },
  {
   "cell_type": "markdown",
   "metadata": {},
   "source": [
    "# Lo representamos en un gráfico de tartas"
   ]
  },
  {
   "cell_type": "code",
   "execution_count": 11,
   "metadata": {
    "scrolled": false
   },
   "outputs": [
    {
     "data": {
      "image/png": "[encoded data removed]",
      "text/plain": [
       "<Figure size 432x288 with 1 Axes>"
      ]
     },
     "metadata": {},
     "output_type": "display_data"
    }
   ],
   "source": [
    "def pintar(positivo, neutral, negativo):\n",
    "    labels = ['Positivo ['+str(positivo)+'%]','Neutral ['+str(neutral)+'%]','Negativo ['+str(negativo)+'%]']\n",
    "    sizes = [positivo,neutral,negativo]\n",
    "    colors =['yellowgreen','gold','green']\n",
    "    patches, texts = plt.pie(sizes, colors=colors, startangle=90)\n",
    "    plt.title('Opinión ECI - COVID')\n",
    "    plt.axis('equal')\n",
    "    plt.show()\n"
   ]
  },
  {
   "cell_type": "code",
   "execution_count": null,
   "metadata": {},
   "outputs": [],
   "source": []
  }
 ],
 "metadata": {
  "kernelspec": {
   "display_name": "Python 3",
   "language": "python",
   "name": "python3"
  },
  "language_info": {
   "codemirror_mode": {
    "name": "ipython",
    "version": 3
   },
   "file_extension": ".py",
   "mimetype": "text/x-python",
   "name": "python",
   "nbconvert_exporter": "python",
   "pygments_lexer": "ipython3",
   "version": "3.7.4"
  }
 },
 "nbformat": 4,
 "nbformat_minor": 2
}
