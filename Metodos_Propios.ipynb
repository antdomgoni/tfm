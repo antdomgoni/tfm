{
 "cells": [
  {
   "cell_type": "markdown",
   "metadata": {},
   "source": [
    "# Métodos propios - TFM"
   ]
  },
  {
   "cell_type": "code",
   "execution_count": null,
   "metadata": {},
   "outputs": [],
   "source": [
    "import pandas as pd\n",
    "import glob\n",
    "import tweepy\n",
    "import GetOldTweets3 as got\n"
   ]
  },
  {
   "cell_type": "markdown",
   "metadata": {},
   "source": [
    "# Acceso a Twitter"
   ]
  },
  {
   "cell_type": "code",
   "execution_count": null,
   "metadata": {},
   "outputs": [],
   "source": [
    "def acceso_Twitter():\n",
    "    OAUTH_TOKEN='1204477616398503936-7Z5WSIa0490S7HbIoPrDzosdA8aJKb'\n",
    "    OAUTH_SECRET='OCHWxZGQlrnaoNx4corTWHNZPrtGtItteYnow7nMDhtON'\n",
    "    CONSUMER_KEY='IRuah0diiQDx7ayuHaFmCOvTq'\n",
    "    CONSUMER_SECRET='FkYZE9vZXWMgWvovRjcqQaixPleh6ADXdD3XU05ZsIkscSFzXd'\n",
    "    auth = tweepy.OAuthHandler(CONSUMER_KEY,CONSUMER_SECRET)\n",
    "    auth.set_access_token(OAUTH_TOKEN,OAUTH_SECRET)\n",
    "    api = tweepy.API(auth, wait_on_rate_limit=True, wait_on_rate_limit_notify=True, timeout=3600)\n",
    "    return api\n"
   ]
  },
  {
   "cell_type": "markdown",
   "metadata": {},
   "source": [
    "# Calendario"
   ]
  },
  {
   "cell_type": "code",
   "execution_count": null,
   "metadata": {},
   "outputs": [],
   "source": [
    "def calendar():\n",
    "    return ['2020-01-01','2020-01-31',\n",
    "            '2020-02-01','2020-02-29',\n",
    "            '2020-03-01','2020-03-31',\n",
    "            '2020-04-01','2020-04-30',\n",
    "            '2020-05-01','2020-05-31',\n",
    "            '2020-06-01','2020-06-30',\n",
    "            '2020-07-01','2020-07-31',\n",
    "            '2020-08-01','2020-08-31']\n",
    "#calendar()"
   ]
  },
  {
   "cell_type": "code",
   "execution_count": null,
   "metadata": {},
   "outputs": [],
   "source": [
    "def calendar_2():\n",
    "    return ['2020-04-01','2020-04-07']"
   ]
  },
  {
   "cell_type": "markdown",
   "metadata": {},
   "source": [
    "# Creación de Variables"
   ]
  },
  {
   "cell_type": "code",
   "execution_count": null,
   "metadata": {},
   "outputs": [],
   "source": [
    "def creacion_DataFrame():\n",
    "    df_aux = pd.DataFrame()\n",
    "    df_tweets = pd.DataFrame()\n",
    "    return df_aux,df_tweets"
   ]
  },
  {
   "cell_type": "code",
   "execution_count": null,
   "metadata": {},
   "outputs": [],
   "source": [
    "def creacion_Listas():\n",
    "    calendar = []\n",
    "    return calendar"
   ]
  },
  {
   "cell_type": "markdown",
   "metadata": {},
   "source": [
    "# Gestión de Ficheros"
   ]
  },
  {
   "cell_type": "markdown",
   "metadata": {},
   "source": [
    "## Función Lectura y Escritura"
   ]
  },
  {
   "cell_type": "code",
   "execution_count": null,
   "metadata": {},
   "outputs": [],
   "source": [
    "def writeCSV(dataframe,file):\n",
    "    dataframe.to_csv(file, index=False)"
   ]
  },
  {
   "cell_type": "code",
   "execution_count": null,
   "metadata": {},
   "outputs": [],
   "source": [
    "def readCSV(dataframe,file):\n",
    "    dataframe = pd.read_csv(file,sep=',', index_col=None)\n",
    "    return dataframe"
   ]
  },
  {
   "cell_type": "markdown",
   "metadata": {},
   "source": [
    "## Función Lectura de todos los tweets "
   ]
  },
  {
   "cell_type": "code",
   "execution_count": null,
   "metadata": {},
   "outputs": [],
   "source": [
    "def read_all_Tweets():\n",
    "    all_files = glob.glob('CSVs/info_tweets_el_cor*.csv')\n",
    "    files =[]\n",
    "    df = creacion_DataFrame()\n",
    "    for file in all_files:\n",
    "        tweets = readCSV(df,file)\n",
    "        files.append(tweets)\n",
    "\n",
    "    df_tweets = pd.concat(files)\n",
    "    return df_tweets\n",
    "read_all_Tweets()"
   ]
  },
  {
   "cell_type": "code",
   "execution_count": null,
   "metadata": {},
   "outputs": [],
   "source": []
  },
  {
   "cell_type": "code",
   "execution_count": null,
   "metadata": {},
   "outputs": [],
   "source": []
  },
  {
   "cell_type": "code",
   "execution_count": null,
   "metadata": {},
   "outputs": [],
   "source": []
  },
  {
   "cell_type": "code",
   "execution_count": null,
   "metadata": {},
   "outputs": [],
   "source": [
    "def get_info_tweets(data_got, since, until):\n",
    "    tweetCriteria = got.manager.TweetCriteria().setQuerySearch(\"\\\"el corte ingles\\\"\")\\\n",
    "                                           .setSince(since)\\\n",
    "                                           .setUntil(until)\n",
    "    tweets = got.manager.TweetManager.getTweets(tweetCriteria)\n",
    "    for tweet in tweets:\n",
    "        info_tweet = {}    \n",
    "        info_tweet[\"id\"]=tweet.id\n",
    "        info_tweet[\"date\"]=tweet.date\n",
    "        info_tweet[\"username\"]=tweet.username\n",
    "        info_tweet[\"text\"]=tweet.text\n",
    "        info_tweet[\"geo\"]=tweet.geo\n",
    "        data_got.append(info_tweet)\n",
    "\n",
    "    df_tweets_aux = pd.DataFrame(data_got)    \n",
    "    #time.sleep(60*5)\n",
    "    return df_tweets_aux\n",
    "    "
   ]
  },
  {
   "cell_type": "code",
   "execution_count": null,
   "metadata": {},
   "outputs": [],
   "source": [
    "def get_Tweets(calendar):\n",
    "    i=0\n",
    "    df_tweets_time = pd.DataFrame()\n",
    "    while i in range(len(calendar)): \n",
    "        df_tweets_time=df_tweets_time.append(get_info_tweets([], calendar[i] , calendar[i+1]))\n",
    "        i=i+2\n",
    "    print(calendar)\n",
    "    return df_tweets_time"
   ]
  },
  {
   "cell_type": "code",
   "execution_count": null,
   "metadata": {},
   "outputs": [],
   "source": []
  },
  {
   "cell_type": "code",
   "execution_count": null,
   "metadata": {},
   "outputs": [],
   "source": []
  }
 ],
 "metadata": {
  "kernelspec": {
   "display_name": "Python 3",
   "language": "python",
   "name": "python3"
  },
  "language_info": {
   "codemirror_mode": {
    "name": "ipython",
    "version": 3
   },
   "file_extension": ".py",
   "mimetype": "text/x-python",
   "name": "python",
   "nbconvert_exporter": "python",
   "pygments_lexer": "ipython3",
   "version": "3.7.4"
  }
 },
 "nbformat": 4,
 "nbformat_minor": 2
}
