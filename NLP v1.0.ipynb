{
 "cells": [
  {
   "cell_type": "code",
   "execution_count": 1,
   "metadata": {},
   "outputs": [],
   "source": [
    "import pandas as pd\n",
    "from textblob import TextBlob\n",
    "import sys\n",
    "import matplotlib.pyplot as plt"
   ]
  },
  {
   "cell_type": "code",
   "execution_count": 2,
   "metadata": {},
   "outputs": [],
   "source": [
    "pd.set_option('display.max_colwidth', -1)"
   ]
  },
  {
   "cell_type": "code",
   "execution_count": 3,
   "metadata": {},
   "outputs": [],
   "source": [
    "#Definción de variables\n",
    "df_nlp= pd.DataFrame()"
   ]
  },
  {
   "cell_type": "code",
   "execution_count": 4,
   "metadata": {},
   "outputs": [
    {
     "data": {
      "text/html": [
       "<div>\n",
       "<style scoped>\n",
       "    .dataframe tbody tr th:only-of-type {\n",
       "        vertical-align: middle;\n",
       "    }\n",
       "\n",
       "    .dataframe tbody tr th {\n",
       "        vertical-align: top;\n",
       "    }\n",
       "\n",
       "    .dataframe thead th {\n",
       "        text-align: right;\n",
       "    }\n",
       "</style>\n",
       "<table border=\"1\" class=\"dataframe\">\n",
       "  <thead>\n",
       "    <tr style=\"text-align: right;\">\n",
       "      <th></th>\n",
       "      <th>created_at</th>\n",
       "      <th>id_str</th>\n",
       "      <th>user</th>\n",
       "      <th>text</th>\n",
       "    </tr>\n",
       "  </thead>\n",
       "  <tbody>\n",
       "    <tr>\n",
       "      <td>0</td>\n",
       "      <td>2020-04-25 07:05:48</td>\n",
       "      <td>1253943276496961537</td>\n",
       "      <td>520606857</td>\n",
       "      <td>@elcorteinglesac @elcorteingles @MRW_clientes @mrw_es 3 dias intentando ponerme en contacto #elcorteingles y #mrw y… https://t.co/Z9lxiVGdDC</td>\n",
       "    </tr>\n",
       "    <tr>\n",
       "      <td>1</td>\n",
       "      <td>2020-04-25 07:50:08</td>\n",
       "      <td>1253954430489288704</td>\n",
       "      <td>1145359822206001152</td>\n",
       "      <td>RT @RHMRaul: @elcorteinglesac @elcorteingles @MRW_clientes @mrw_es 3 dias intentando ponerme en contacto #elcorteingles y #mrw y ea imposib…</td>\n",
       "    </tr>\n",
       "    <tr>\n",
       "      <td>2</td>\n",
       "      <td>2020-04-25 10:58:09</td>\n",
       "      <td>1254001745979756545</td>\n",
       "      <td>1014801210128429056</td>\n",
       "      <td>RT @LaLiga: ¿En cuál de estos equipos NO HA JUGADO nunca Albiol? \\n\\n🧐📌 @realmadrid \\n🧐📌 @realracingclub \\n🧐📌 @valenciacf \\n🧐📌 @VillarrealCF \\n🧐📌…</td>\n",
       "    </tr>\n",
       "    <tr>\n",
       "      <td>3</td>\n",
       "      <td>2020-04-25 11:07:02</td>\n",
       "      <td>1254003981388525568</td>\n",
       "      <td>900671288687177728</td>\n",
       "      <td>RT @tecno_guru: Portátil Gaming HP OMEN X 2S, ahora con descuento de 400 euros\\n\\n#gurutecno.com #hp #hpomen #hpomenx2s #portatil #gaming #in…</td>\n",
       "    </tr>\n",
       "    <tr>\n",
       "      <td>4</td>\n",
       "      <td>2020-04-25 11:18:34</td>\n",
       "      <td>1254006885080014849</td>\n",
       "      <td>371859688</td>\n",
       "      <td>RT @tecno_guru: Portátil Gaming HP OMEN X 2S, ahora con descuento de 400 euros\\n\\n#gurutecno.com #hp #hpomen #hpomenx2s #portatil #gaming #in…</td>\n",
       "    </tr>\n",
       "    <tr>\n",
       "      <td>...</td>\n",
       "      <td>...</td>\n",
       "      <td>...</td>\n",
       "      <td>...</td>\n",
       "      <td>...</td>\n",
       "    </tr>\n",
       "    <tr>\n",
       "      <td>224</td>\n",
       "      <td>2020-05-02 20:52:42</td>\n",
       "      <td>1256688085380870152</td>\n",
       "      <td>450152128</td>\n",
       "      <td>RT @JesusNavarro: 🔴 #ÚltimaHora\\nFallece con 52 años el director de #ElCorteInglés de #Málaga al sufrir un #infarto mientras se encontraba e…</td>\n",
       "    </tr>\n",
       "    <tr>\n",
       "      <td>225</td>\n",
       "      <td>2020-05-02 21:07:11</td>\n",
       "      <td>1256691730256191488</td>\n",
       "      <td>355452662</td>\n",
       "      <td>RT @Pako_roman: Necesito a alguien que trabaje en ATENCIÓN AL CLIENTE de #elcorteingles de Nervión o de la sección BEBE. El 20 de Mayo cump…</td>\n",
       "    </tr>\n",
       "    <tr>\n",
       "      <td>226</td>\n",
       "      <td>2020-05-02 21:20:02</td>\n",
       "      <td>1256694965801009152</td>\n",
       "      <td>949884697</td>\n",
       "      <td>RT @Pako_roman: Necesito a alguien que trabaje en ATENCIÓN AL CLIENTE de #elcorteingles de Nervión o de la sección BEBE. El 20 de Mayo cump…</td>\n",
       "    </tr>\n",
       "    <tr>\n",
       "      <td>227</td>\n",
       "      <td>2020-05-02 23:26:24</td>\n",
       "      <td>1256726765608845313</td>\n",
       "      <td>753371469132988416</td>\n",
       "      <td>RT @Pako_roman: Necesito a alguien que trabaje en ATENCIÓN AL CLIENTE de #elcorteingles de Nervión o de la sección BEBE. El 20 de Mayo cump…</td>\n",
       "    </tr>\n",
       "    <tr>\n",
       "      <td>228</td>\n",
       "      <td>2020-05-02 23:28:09</td>\n",
       "      <td>1256727205452959746</td>\n",
       "      <td>717114101223276544</td>\n",
       "      <td>RT @Pako_roman: Necesito a alguien que trabaje en ATENCIÓN AL CLIENTE de #elcorteingles de Nervión o de la sección BEBE. El 20 de Mayo cump…</td>\n",
       "    </tr>\n",
       "  </tbody>\n",
       "</table>\n",
       "<p>229 rows × 4 columns</p>\n",
       "</div>"
      ],
      "text/plain": [
       "              created_at               id_str                 user  \\\n",
       "0    2020-04-25 07:05:48  1253943276496961537  520606857             \n",
       "1    2020-04-25 07:50:08  1253954430489288704  1145359822206001152   \n",
       "2    2020-04-25 10:58:09  1254001745979756545  1014801210128429056   \n",
       "3    2020-04-25 11:07:02  1254003981388525568  900671288687177728    \n",
       "4    2020-04-25 11:18:34  1254006885080014849  371859688             \n",
       "..                   ...                  ...        ...             \n",
       "224  2020-05-02 20:52:42  1256688085380870152  450152128             \n",
       "225  2020-05-02 21:07:11  1256691730256191488  355452662             \n",
       "226  2020-05-02 21:20:02  1256694965801009152  949884697             \n",
       "227  2020-05-02 23:26:24  1256726765608845313  753371469132988416    \n",
       "228  2020-05-02 23:28:09  1256727205452959746  717114101223276544    \n",
       "\n",
       "                                                                                                                                                   text  \n",
       "0    @elcorteinglesac @elcorteingles @MRW_clientes @mrw_es 3 dias intentando ponerme en contacto #elcorteingles y #mrw y… https://t.co/Z9lxiVGdDC        \n",
       "1    RT @RHMRaul: @elcorteinglesac @elcorteingles @MRW_clientes @mrw_es 3 dias intentando ponerme en contacto #elcorteingles y #mrw y ea imposib…        \n",
       "2    RT @LaLiga: ¿En cuál de estos equipos NO HA JUGADO nunca Albiol? \\n\\n🧐📌 @realmadrid \\n🧐📌 @realracingclub \\n🧐📌 @valenciacf \\n🧐📌 @VillarrealCF \\n🧐📌…  \n",
       "3    RT @tecno_guru: Portátil Gaming HP OMEN X 2S, ahora con descuento de 400 euros\\n\\n#gurutecno.com #hp #hpomen #hpomenx2s #portatil #gaming #in…      \n",
       "4    RT @tecno_guru: Portátil Gaming HP OMEN X 2S, ahora con descuento de 400 euros\\n\\n#gurutecno.com #hp #hpomen #hpomenx2s #portatil #gaming #in…      \n",
       "..                                                                                                                                              ...      \n",
       "224  RT @JesusNavarro: 🔴 #ÚltimaHora\\nFallece con 52 años el director de #ElCorteInglés de #Málaga al sufrir un #infarto mientras se encontraba e…       \n",
       "225  RT @Pako_roman: Necesito a alguien que trabaje en ATENCIÓN AL CLIENTE de #elcorteingles de Nervión o de la sección BEBE. El 20 de Mayo cump…        \n",
       "226  RT @Pako_roman: Necesito a alguien que trabaje en ATENCIÓN AL CLIENTE de #elcorteingles de Nervión o de la sección BEBE. El 20 de Mayo cump…        \n",
       "227  RT @Pako_roman: Necesito a alguien que trabaje en ATENCIÓN AL CLIENTE de #elcorteingles de Nervión o de la sección BEBE. El 20 de Mayo cump…        \n",
       "228  RT @Pako_roman: Necesito a alguien que trabaje en ATENCIÓN AL CLIENTE de #elcorteingles de Nervión o de la sección BEBE. El 20 de Mayo cump…        \n",
       "\n",
       "[229 rows x 4 columns]"
      ]
     },
     "execution_count": 4,
     "metadata": {},
     "output_type": "execute_result"
    }
   ],
   "source": [
    "#Lectura en ficheros de los IDS de Twitter\n",
    "def readTweet(dataframe,file):\n",
    "    dataframe = pd.read_csv(file,sep=',')\n",
    "    return dataframe\n",
    "\n",
    "\n",
    "df_tweets=readTweet(df_nlp,'info_tweets_el_corte_ingles_03052020.csv')\n",
    "df_tweets"
   ]
  },
  {
   "cell_type": "code",
   "execution_count": 5,
   "metadata": {
    "collapsed": true
   },
   "outputs": [
    {
     "data": {
      "text/plain": [
       "0      @elcorteinglesac @elcorteingles @MRW_clientes @mrw_es 3 dias intentando ponerme en contacto #elcorteingles y #mrw y… https://t.co/Z9lxiVGdDC      \n",
       "1      RT @RHMRaul: @elcorteinglesac @elcorteingles @MRW_clientes @mrw_es 3 dias intentando ponerme en contacto #elcorteingles y #mrw y ea imposib…      \n",
       "2      RT @LaLiga: ¿En cuál de estos equipos NO HA JUGADO nunca Albiol? \\n\\n🧐📌 @realmadrid \\n🧐📌 @realracingclub \\n🧐📌 @valenciacf \\n🧐📌 @VillarrealCF \\n🧐📌…\n",
       "3      RT @tecno_guru: Portátil Gaming HP OMEN X 2S, ahora con descuento de 400 euros\\n\\n#gurutecno.com #hp #hpomen #hpomenx2s #portatil #gaming #in…    \n",
       "4      RT @tecno_guru: Portátil Gaming HP OMEN X 2S, ahora con descuento de 400 euros\\n\\n#gurutecno.com #hp #hpomen #hpomenx2s #portatil #gaming #in…    \n",
       "                                                                            ...                                                                          \n",
       "224    RT @JesusNavarro: 🔴 #ÚltimaHora\\nFallece con 52 años el director de #ElCorteInglés de #Málaga al sufrir un #infarto mientras se encontraba e…     \n",
       "225    RT @Pako_roman: Necesito a alguien que trabaje en ATENCIÓN AL CLIENTE de #elcorteingles de Nervión o de la sección BEBE. El 20 de Mayo cump…      \n",
       "226    RT @Pako_roman: Necesito a alguien que trabaje en ATENCIÓN AL CLIENTE de #elcorteingles de Nervión o de la sección BEBE. El 20 de Mayo cump…      \n",
       "227    RT @Pako_roman: Necesito a alguien que trabaje en ATENCIÓN AL CLIENTE de #elcorteingles de Nervión o de la sección BEBE. El 20 de Mayo cump…      \n",
       "228    RT @Pako_roman: Necesito a alguien que trabaje en ATENCIÓN AL CLIENTE de #elcorteingles de Nervión o de la sección BEBE. El 20 de Mayo cump…      \n",
       "Name: text, Length: 229, dtype: object"
      ]
     },
     "execution_count": 5,
     "metadata": {},
     "output_type": "execute_result"
    }
   ],
   "source": [
    "df_tweets['text']"
   ]
  },
  {
   "cell_type": "markdown",
   "metadata": {},
   "source": [
    "# Ejemplos de NLP Tweets"
   ]
  },
  {
   "cell_type": "code",
   "execution_count": 9,
   "metadata": {
    "collapsed": true
   },
   "outputs": [
    {
     "name": "stdout",
     "output_type": "stream",
     "text": [
      "Positivo: 12.22707423580786 %\n",
      "Negativo: 2.6200873362445414 %\n",
      "Neutral: 85.1528384279476 %\n",
      "Como reacciona la gente antes el COVID\n",
      "------------------\n",
      "['🌀 Pantalla inteligente Lenovo Smart Display 10\". #ElCorteIngles 🇪🇸\\n\\n💶 Precio oferta: 99.99€ 💥 (PVP normal: 239.99€)… https://t.co/RKjz9qdtic', '🌀 Monitor PC 68,6 cm (27\") LG 27MK600M Full HD IPS, Radeon FreeSync. #ElCorteIngles 🇪🇸\\n\\n💶 Precio oferta: 139€ 💥 (PV… https://t.co/0i6bnextlf', '🌀 Pantalón de niños SST adidas Originals. #ElCorteIngles 🇪🇸\\n\\n💶 Precio oferta: 24.45€ 💥 (PVP normal: 34.95€)\\n\\n💳 Enla… https://t.co/EamAFI2ZeH', 'Enlace al post completo: https://t.co/fTFml6TG7p \\n\\u200d  SMART TV SONY XF90 65\"!! #ElCorteIngles.\\n\\nChollazo para el par… https://t.co/dZzQ2AVDJk', '🌀 Camiseta de niños  Badge of Sport Must Haves adidas. #ElCorteIngles 🇪🇸\\n\\n💶 Precio oferta: 12.55€ 💥 (PVP normal: 17… https://t.co/aELJ1I4FfA', '🌀 Piscina de burbujas hinchable Buscando a Dory Disney. #ElCorteIngles 🇪🇸\\n\\n💶 Precio oferta: 20€ 💥 (PVP normal: 34.9… https://t.co/mDSXDgG0ig', '🌀 Eau de Toilette cK one 200 ml Calvin Klein. #ElCorteIngles 🇪🇸\\n\\n💶 Precio oferta: 39.95€ 💥 (PVP normal: 93.4€)\\n\\n💳 E… https://t.co/Yg4nsBq4b2', '🌀 Sartén Foodie Bra. #ElCorteIngles 🇪🇸\\n\\n💶 Precio oferta: 13.95€ 💥 (PVP normal: 19.95€)\\n\\n💳 Enlace:… https://t.co/qgbah7EKbL', '🌀 Volkswagen Beetle Lego Creator. #ElCorteIngles 🇪🇸\\n\\n💶 Precio oferta: 79.2€ 💥 (PVP normal: 99€)\\n\\n💳 Enlace:… https://t.co/UWfVr267J4', '🌀 La ciencia de El Hormiguero. #ElCorteIngles 🇪🇸\\n\\n💶 Precio oferta: 20€ 💥 (PVP normal: 39.99€)\\n\\n💳 Enlace:… https://t.co/DVvetoavRz', '🌀 Pincel de silicona Efficient Bra. #ElCorteIngles 🇪🇸\\n\\n💶 Precio oferta: 4.15€ 💥 (PVP normal: 5.95€)\\n\\n💳 Enlace:… https://t.co/eShU9I278S', '@elcorteinglesac @elcorteingles consideráis normal entregar un lavavajillas instalado por tecnicos, que no funcione… https://t.co/379RYWgo5U', '@elcorteinglesac @elcorteinglesac @elcorteingles consideráis normal entregar un lavavajillas instalado por tecnicos… https://t.co/CG94xTj3FZ', '🌀 Colección Muñeca Nancy y Lucas Famosa. #ElCorteIngles 🇪🇸\\n\\n🔘 Original y hoy a un 22% de descuento!!!\\n\\n💶 Precio ofe… https://t.co/Uh2URDJpgR', '🌀 Mochila Wm Realm Backpack Wild Leopard Vans. #ElCorteIngles 🇪🇸\\n\\n💶 Precio oferta: 20€ 💥 (PVP normal: 40€)\\n\\n💳 Enlac… https://t.co/UPGb9c0MBk', '🌀 Mochila Wm Bmx Backpack True Navy Vans. #ElCorteIngles 🇪🇸\\n\\n💶 Precio oferta: 22.5€ 💥 (PVP normal: 45€)\\n\\n💳 Enlace:… https://t.co/pT0KsKm1Xb', '🌀 Llavero Funko POP Marvel Ant-Man &amp; The Wasp The Wasp. #ElCorteIngles 🇪🇸\\n\\n💶 Precio oferta: 3€ 💥 (PVP normal: 5.95€… https://t.co/YeMIdnj1BI', '🌀 Camiseta de niño Big Vector Stacked Logo Reebok. #ElCorteIngles 🇪🇸\\n\\n💶 Precio oferta: 9.8€ 💥 (PVP normal: 14€)\\n\\n💳… https://t.co/Cs2pEalwTx', '🌀 Taza Mr. Wonderful: Abuela, eres la pera limonera. #ElCorteIngles 🇪🇸\\n\\n🔘 Regalo para nuestras madres!!!\\n\\n💶 Precio… https://t.co/R8YRh38gVw', '🌀 Amazfit Bip Lite Negro Smartwatch. #ElCorteIngles 🇪🇸\\n\\n💶 Precio oferta: 39.99€ 💥 (PVP normal: 59.99€)\\n\\n💳 Enlace:… https://t.co/QNcmKgWz84', '🌀 Robot aspirador iRobot Roomba e5. #ElCorteIngles 🇪🇸\\n\\n💶 Precio oferta: 349€ 💥 (PVP normal: 499€)\\n\\n💳 Enlace:… https://t.co/6XIbnozBgu', '🌀 Amazfit Bip Black Smart Smartwatch. #ElCorteIngles 🇪🇸\\n\\n💶 Precio oferta: 49.99€ 💥 (PVP normal: 69.99€)\\n\\n💳 Enlace:… https://t.co/dusmt53VII', \"🌀 Vino tinto Tocat de l'ala Empordá. #ElCorteIngles 🇪🇸\\n\\n💶 Precio oferta: 9.95€ 💥 (PVP normal: 12.4€)\\n\\n💳 Enlace:… https://t.co/Gj1Fh2ELh6\", '🌀 Frigorífico combi Teka NFL 320 Blanco No Frost. #ElCorteIngles 🇪🇸\\n\\n💶 Precio oferta: 339.15€ 💥 (PVP normal: 515€)… https://t.co/wGLBMT3doV', \"🌀 Estuche de regalo Eau de Parfum L'Interdit Givenchy. #ElCorteIngles 🇪🇸\\n\\n💶 Precio oferta: 64.95€ 💥 (PVP normal: 93… https://t.co/nRtWKQ1xWR\", '🌀 Máquina de café NESPRESSO Krups Inissia XN100510 Red. #ElCorteIngles 🇪🇸\\n\\n💶 Precio oferta: 59€ 💥 (PVP normal: 99€)… https://t.co/TZLnWn8l69', '🌀 Camiseta de niño Big Vector Stacked Logo Reebok. #ElCorteIngles 🇪🇸\\n\\n💶 Precio oferta: 9.8€ 💥 (PVP normal: 14€)\\n\\n💳… https://t.co/e5oma3B5TN', '🌀 Juego de 3 sartenes efecto piedra El Corte Inglés. #ElCorteIngles 🇪🇸\\n\\n💶 Precio oferta: 24.97€ 💥 (PVP normal: 49.9… https://t.co/Fl28uIys8B']\n",
      "------------------\n",
      "['@elcorteinglesac @elcorteingles @MRW_clientes @mrw_es 3 dias intentando ponerme en contacto #elcorteingles y #mrw y… https://t.co/Z9lxiVGdDC', 'RT @RHMRaul: @elcorteinglesac @elcorteingles @MRW_clientes @mrw_es 3 dias intentando ponerme en contacto #elcorteingles y #mrw y ea imposib…', 'RT @LaLiga: ¿En cuál de estos equipos NO HA JUGADO nunca Albiol? \\n\\n🧐📌 @realmadrid \\n🧐📌 @realracingclub \\n🧐📌 @valenciacf \\n🧐📌 @VillarrealCF \\n🧐📌…', 'RT @tecno_guru: Portátil Gaming HP OMEN X 2S, ahora con descuento de 400 euros\\n\\n#gurutecno.com #hp #hpomen #hpomenx2s #portatil #gaming #in…', 'RT @tecno_guru: Portátil Gaming HP OMEN X 2S, ahora con descuento de 400 euros\\n\\n#gurutecno.com #hp #hpomen #hpomenx2s #portatil #gaming #in…', 'RT @sergiolaba: Más muertos que ETA #daca #inditex #ElCorteIngles #Primark', 'RT @AneurAndamios: Cualquier trabajo en #altura 🔝🔝 será posible si eliges a #aneur .\\n\\n#anring #andamios #scaffolding #obra #construccion #c…', '@Rocamboleycia @LFC64726192 ¿En un Supercor? ¿El supermercado de esos capitalistas explotadores de #ElCorteInglés?… https://t.co/d6MA03hizu', 'RT @Y0landita_7: @Rocamboleycia @LFC64726192 ¿En un Supercor? ¿El supermercado de esos capitalistas explotadores de #ElCorteInglés? Le ha f…', 'RT @Y0landita_7: @Rocamboleycia @LFC64726192 ¿En un Supercor? ¿El supermercado de esos capitalistas explotadores de #ElCorteInglés? Le ha f…', 'RT @Y0landita_7: @Rocamboleycia @LFC64726192 ¿En un Supercor? ¿El supermercado de esos capitalistas explotadores de #ElCorteInglés? Le ha f…', 'RT @Y0landita_7: @Rocamboleycia @LFC64726192 ¿En un Supercor? ¿El supermercado de esos capitalistas explotadores de #ElCorteInglés? Le ha f…', 'RT @Y0landita_7: @Rocamboleycia @LFC64726192 ¿En un Supercor? ¿El supermercado de esos capitalistas explotadores de #ElCorteInglés? Le ha f…', '@elcorteinglesac sigo esperando respuesta a un MD.... Entre vosotros y @MRW_clientes le vais a joder el cumpleaños… https://t.co/NJNbQgKCah', 'RT @Y0landita_7: @Rocamboleycia @LFC64726192 ¿En un Supercor? ¿El supermercado de esos capitalistas explotadores de #ElCorteInglés? Le ha f…', 'RT @Y0landita_7: @Rocamboleycia @LFC64726192 ¿En un Supercor? ¿El supermercado de esos capitalistas explotadores de #ElCorteInglés? Le ha f…', 'RT @Y0landita_7: @Rocamboleycia @LFC64726192 ¿En un Supercor? ¿El supermercado de esos capitalistas explotadores de #ElCorteInglés? Le ha f…', 'RT @Y0landita_7: @Rocamboleycia @LFC64726192 ¿En un Supercor? ¿El supermercado de esos capitalistas explotadores de #ElCorteInglés? Le ha f…', 'RT @Y0landita_7: @Rocamboleycia @LFC64726192 ¿En un Supercor? ¿El supermercado de esos capitalistas explotadores de #ElCorteInglés? Le ha f…', 'RT @Y0landita_7: @Rocamboleycia @LFC64726192 ¿En un Supercor? ¿El supermercado de esos capitalistas explotadores de #ElCorteInglés? Le ha f…', 'RT @Y0landita_7: @Rocamboleycia @LFC64726192 ¿En un Supercor? ¿El supermercado de esos capitalistas explotadores de #ElCorteInglés? Le ha f…', 'RT @Y0landita_7: @Rocamboleycia @LFC64726192 ¿En un Supercor? ¿El supermercado de esos capitalistas explotadores de #ElCorteInglés? Le ha f…', 'Creéis que la crisis sanitaria del #coronavirus hará que los grandes players de la alimentación salgan fortalecidos… https://t.co/fbVJgdI6z0', 'RT @Y0landita_7: @Rocamboleycia @LFC64726192 ¿En un Supercor? ¿El supermercado de esos capitalistas explotadores de #ElCorteInglés? Le ha f…', 'RT @Y0landita_7: @Rocamboleycia @LFC64726192 ¿En un Supercor? ¿El supermercado de esos capitalistas explotadores de #ElCorteInglés? Le ha f…', 'RT @Y0landita_7: @Rocamboleycia @LFC64726192 ¿En un Supercor? ¿El supermercado de esos capitalistas explotadores de #ElCorteInglés? Le ha f…', 'RT @Y0landita_7: @Rocamboleycia @LFC64726192 ¿En un Supercor? ¿El supermercado de esos capitalistas explotadores de #ElCorteInglés? Le ha f…', 'RT @Y0landita_7: @Rocamboleycia @LFC64726192 ¿En un Supercor? ¿El supermercado de esos capitalistas explotadores de #ElCorteInglés? Le ha f…', '@elcorteinglesac sigo esperando respuesta. #elcorteingles son unos impresentables que arruinan los cumpleaños de la… https://t.co/BwukbYaBcp', '#118 Pasta Fresca Rellena Boletus 😋\\n#tutto_italia_ifi #clubdelgourmet #elcorteingles https://t.co/TcbzZWqbIZ', '#ElAsesinoDeRostros ¡Déjate llevar por el inspector Barreiro! #novelanegra \\nEn #ElCorteInglés… https://t.co/AT33W29fIw', 'RT @inspectBarreiro: #ElAsesinoDeRostros ¡Déjate llevar por el inspector Barreiro! #novelanegra \\nEn #ElCorteInglés https://t.co/2AIqj5u6wj)…', '@facua no es una violación de mis derechos como consumidora que ni @elcorteinglesac ni @MRW_clientes  me den soluci… https://t.co/ZO8eAGoSRA', 'Tengo una #duda. ¿Ofrece #elcorteinglés plazos de entrega cortos en la #compraonline sabiendo que no puede cumplirl… https://t.co/pBE6zSNlZf', 'Estas son las tiendas online preferidas por los españoles.  #ecommerce #shoponline #DigitalMarketing… https://t.co/TTRzQmelp6', 'El Corte Inglés trata de capitalizarse con la venta de Iecisa al grupo francés Gfi tras la aprobación de Competenci… https://t.co/EGdB3FDvtS', 'La #MediaPadT5 es una #tablet con MUY buena relación calidad-precio:\\n\\n🔸 Pantalla #IPS de 10,1\" a 1.920x1.200\\n🔸… https://t.co/s77C76wB4q', 'La #MediaPadT5 es una #tablet con MUY buena relación calidad-precio:\\n\\n🔸 Pantalla #IPS de 10,1\" a 1.920x1.200\\n🔸… https://t.co/z49IW6j1G6', 'La #MediaPadT5 es una #tablet con MUY buena relación calidad-precio:\\n\\n🔸 Pantalla #IPS de 10,1\" a 1.920x1.200\\n🔸… https://t.co/HCPLPWCfxL', '@elcorteinglesac @elcorteingles desde El Corte Inglés seguís sin dar señales de vida, me faltan artículos del pedid… https://t.co/1K1qm1e5Jz', 'Gracias @elcorteingles @elcorteinglesac por su inestimable ayuda. 6 llamadas y nada. El día 21/04/2020 mi amigo… https://t.co/SHFuCRq9NC', 'Regalo también de Ana, su esposa e inmejorable amiga. ¿Qué hago con esta podredumbre? Estoy por llevarla a #elcorteingles de #marineda', '📢 ATENCIÓN, pregunta: ¿En cuál de estos equipos NO ha jugado @BorjaIglesias9? 🐼⚽\\n\\n👉 @RCCelta\\n👉 @RealZaragoza\\n👉… https://t.co/89pMU6KYqh', 'RT @LaLiga: 📢 ATENCIÓN, pregunta: ¿En cuál de estos equipos NO ha jugado @BorjaIglesias9? 🐼⚽\\n\\n👉 @RCCelta\\n👉 @RealZaragoza\\n👉 @Atleti\\n👉 @RCDEs…', 'RT @LaLiga: 📢 ATENCIÓN, pregunta: ¿En cuál de estos equipos NO ha jugado @BorjaIglesias9? 🐼⚽\\n\\n👉 @RCCelta\\n👉 @RealZaragoza\\n👉 @Atleti\\n👉 @RCDEs…', 'RT @LaLiga: 📢 ATENCIÓN, pregunta: ¿En cuál de estos equipos NO ha jugado @BorjaIglesias9? 🐼⚽\\n\\n👉 @RCCelta\\n👉 @RealZaragoza\\n👉 @Atleti\\n👉 @RCDEs…', 'RT @LaLiga: 📢 ATENCIÓN, pregunta: ¿En cuál de estos equipos NO ha jugado @BorjaIglesias9? 🐼⚽\\n\\n👉 @RCCelta\\n👉 @RealZaragoza\\n👉 @Atleti\\n👉 @RCDEs…', 'RT @LaLiga: 📢 ATENCIÓN, pregunta: ¿En cuál de estos equipos NO ha jugado @BorjaIglesias9? 🐼⚽\\n\\n👉 @RCCelta\\n👉 @RealZaragoza\\n👉 @Atleti\\n👉 @RCDEs…', 'RT @LaLiga: 📢 ATENCIÓN, pregunta: ¿En cuál de estos equipos NO ha jugado @BorjaIglesias9? 🐼⚽\\n\\n👉 @RCCelta\\n👉 @RealZaragoza\\n👉 @Atleti\\n👉 @RCDEs…', 'RT @LaLiga: 📢 ATENCIÓN, pregunta: ¿En cuál de estos equipos NO ha jugado @BorjaIglesias9? 🐼⚽\\n\\n👉 @RCCelta\\n👉 @RealZaragoza\\n👉 @Atleti\\n👉 @RCDEs…', 'RT @LaLiga: 📢 ATENCIÓN, pregunta: ¿En cuál de estos equipos NO ha jugado @BorjaIglesias9? 🐼⚽\\n\\n👉 @RCCelta\\n👉 @RealZaragoza\\n👉 @Atleti\\n👉 @RCDEs…', 'RT @LaLiga: 📢 ATENCIÓN, pregunta: ¿En cuál de estos equipos NO ha jugado @BorjaIglesias9? 🐼⚽\\n\\n👉 @RCCelta\\n👉 @RealZaragoza\\n👉 @Atleti\\n👉 @RCDEs…', 'Tengo #dudas. ¿Ofrece #elcorteinglés plazos de entrega cortos en la #compraonline sabiendo que no puede cumplirlos… https://t.co/YGTn1Iwl8E', 'RT @LaLiga: 📢 ATENCIÓN, pregunta: ¿En cuál de estos equipos NO ha jugado @BorjaIglesias9? 🐼⚽\\n\\n👉 @RCCelta\\n👉 @RealZaragoza\\n👉 @Atleti\\n👉 @RCDEs…', 'RT @SolenelNorte: Regalo también de Ana, su esposa e inmejorable amiga. ¿Qué hago con esta podredumbre? Estoy por llevarla a #elcorteingles…', 'RT @LaLiga: 📢 ATENCIÓN, pregunta: ¿En cuál de estos equipos NO ha jugado @BorjaIglesias9? 🐼⚽\\n\\n👉 @RCCelta\\n👉 @RealZaragoza\\n👉 @Atleti\\n👉 @RCDEs…', 'RT @LaLiga: 📢 ATENCIÓN, pregunta: ¿En cuál de estos equipos NO ha jugado @BorjaIglesias9? 🐼⚽\\n\\n👉 @RCCelta\\n👉 @RealZaragoza\\n👉 @Atleti\\n👉 @RCDEs…', '🌀 Portátil Lenovo Ideapad 330s-15, AMD Ryzen 3, 4 GB, 128 GB SSD, Radeon Vega 3. #ElCorteIngles 🇪🇸\\n\\n💶 Precio oferta… https://t.co/Aqizhk6Zcp', '🌀 Zapatillas de running de hombre Revolution 5 Nike. #ElCorteIngles 🇪🇸\\n\\n💶 Precio oferta: 54.95€ 💥\\n\\n💳 Enlace:… https://t.co/eWPq1iDyj7', 'RT @LaLiga: 📢 ATENCIÓN, pregunta: ¿En cuál de estos equipos NO ha jugado @BorjaIglesias9? 🐼⚽\\n\\n👉 @RCCelta\\n👉 @RealZaragoza\\n👉 @Atleti\\n👉 @RCDEs…', 'RT @inspectBarreiro: #ElAsesinoDeRostros ¡Déjate llevar por el inspector Barreiro! #novelanegra \\nEn #ElCorteInglés https://t.co/2AIqj5u6wj)…', 'RT @LaLiga: 📢 ATENCIÓN, pregunta: ¿En cuál de estos equipos NO ha jugado @BorjaIglesias9? 🐼⚽\\n\\n👉 @RCCelta\\n👉 @RealZaragoza\\n👉 @Atleti\\n👉 @RCDEs…', 'RT @inspectBarreiro: #ElAsesinoDeRostros ¡Déjate llevar por el inspector Barreiro! #novelanegra \\nEn #ElCorteInglés https://t.co/2AIqj5u6wj)…', '🌀 Batidora amasadora Bosch MasterChef MFQ40304 con función Turbo. #ElCorteIngles 🇪🇸\\n\\n💶 Precio oferta: 36€ 💥 (PVP no… https://t.co/hhcvWzLDWP', '📣 #GANGA a la vista\\n\\n📺 Televisor #4K con:\\n\\n🔹 Panel de 55\"\\n🔹 #SmartTV\\n🔹 #Ambilight en 3 lados\\n🔹 #DolbyVision\\n🔹… https://t.co/ENrELvA6Je', '📣 #GANGA a la vista\\n\\n📺 Televisor #4K con:\\n\\n🔹 Panel de 55\"\\n🔹 #SmartTV\\n🔹 #Ambilight en 3 lados\\n🔹 #DolbyVision\\n🔹… https://t.co/zohkaqRC4a', '📣 #GANGA a la vista\\n\\n📺 Televisor #4K con:\\n\\n🔹 Panel de 55\"\\n🔹 #SmartTV\\n🔹 #Ambilight en 3 lados\\n🔹 #DolbyVision\\n🔹… https://t.co/zb5fHBMgZc', 'RT @LaLiga: 📢 ATENCIÓN, pregunta: ¿En cuál de estos equipos NO ha jugado @BorjaIglesias9? 🐼⚽\\n\\n👉 @RCCelta\\n👉 @RealZaragoza\\n👉 @Atleti\\n👉 @RCDEs…', 'RT @LaLiga: 📢 ATENCIÓN, pregunta: ¿En cuál de estos equipos NO ha jugado @BorjaIglesias9? 🐼⚽\\n\\n👉 @RCCelta\\n👉 @RealZaragoza\\n👉 @Atleti\\n👉 @RCDEs…', 'RT @mcagudo: Tengo #dudas. ¿Ofrece #elcorteinglés plazos de entrega cortos en la #compraonline sabiendo que no puede cumplirlos para captar…', 'RT @mcagudo: Tengo #dudas. ¿Ofrece #elcorteinglés plazos de entrega cortos en la #compraonline sabiendo que no puede cumplirlos para captar…', '@iecisa \\n\\nYa formamos parte de la empresa europea @GFI_Informatica @gfi_world dejando de pertenecer de manera ofici… https://t.co/rLIcOzsEBC', '#ideas #elcorteingles \\n@elcorteinglesac\\n\\npedido online 2007817006177 de 18 de marzo, monitor que necesito para trab… https://t.co/mEGpYYxyPe', 'Sony KD65XF9005 4K con un descuento del 45%\\n#sony #tv #fnac #elcorteingles #sony4k #sonytv #gurutecno.com… https://t.co/v7QcVJgxBW', 'RT @LaLiga: 📢 ATENCIÓN, pregunta: ¿En cuál de estos equipos NO ha jugado @BorjaIglesias9? 🐼⚽\\n\\n👉 @RCCelta\\n👉 @RealZaragoza\\n👉 @Atleti\\n👉 @RCDEs…', '#elcorteingles @elcorteinglesac   por favor, si no podeis vender online, parad las ventas. No estáis entregado los… https://t.co/XfCaXx2rL2', '🌀 Portátil Lenovo IdeaPad S145-15API, AMD Ryzen 5, 12GB, 512GB SSD. #ElCorteIngles 🇪🇸\\n\\n💶 Precio oferta: 494.1€ 💥 (P… https://t.co/JQI45jfO0A', \"🌀 Cafetera espresso automática De'Longhi Inissia EN80B para cápsulas Nespresso. #ElCorteIngles 🇪🇸\\n\\n💶 Precio oferta:… https://t.co/f0Mm4NMhP8\", '@VECI_Esp @M_LLUCH @consumidores No lo parece... 🤣🤣🤣\\n\\nEs lo que tiene pasar de los clientes... Que se sienten aband… https://t.co/OoL3NXYn3q', '@Torres_Run Esto suena a estampida tipo las #rebajas de #ElCorteIngles\\xa0Yo como que mejor #MeQuedoEnCasa', 'RT @tecno_guru: Sony KD65XF9005 4K con un descuento del 45%\\n#sony #tv #fnac #elcorteingles #sony4k #sonytv #gurutecno.com #guruchollos.com…', '🇪🇸 📯OFERTAS📯 #ElCorteIngles\\n\\n🔹Cafetera espresso automática Digrato EC-D1W para cápsu... por 19,00 €‼️⚡️(PVP: 79,00… https://t.co/8ODjgWnvQA', '@elcorteinglesac @elcorteingles @elcorteinglesac Les escribí hace 4 días y aún no me han contestado.Hice la compra… https://t.co/tLlUc9K0w2', '@elcorteinglesac si vuelvo a llamar me tenéis otros 50 min? Conseguiré solucionar el problema ? #elcorteingles #nps… https://t.co/U8g4fcSeD2', '❗️PRECIAZO❗️ #ElCorteIngles🌏\\n\\n🔹Huawei Bundle Watch GT2e + Band 4e solo 169,00€❗️⚡️(PVP: 240,00€)\\n🔰… https://t.co/JfA4hRqJPy', '🤔 Aquí tienes los emojis. ¿Nos dices el equipo?\\n\\n1. _________\\n2. _________\\n3. _________\\n4. _________\\n5. _________… https://t.co/ladHSLNimy', 'RT @LaLiga: 🤔 Aquí tienes los emojis. ¿Nos dices el equipo?\\n\\n1. _________\\n2. _________\\n3. _________\\n4. _________\\n5. _________\\n\\n#ElCorteIngl…', 'RT @LaLiga: 🤔 Aquí tienes los emojis. ¿Nos dices el equipo?\\n\\n1. _________\\n2. _________\\n3. _________\\n4. _________\\n5. _________\\n\\n#ElCorteIngl…', 'RT @LaLiga: 🤔 Aquí tienes los emojis. ¿Nos dices el equipo?\\n\\n1. _________\\n2. _________\\n3. _________\\n4. _________\\n5. _________\\n\\n#ElCorteIngl…', 'RT @LaLiga: 🤔 Aquí tienes los emojis. ¿Nos dices el equipo?\\n\\n1. _________\\n2. _________\\n3. _________\\n4. _________\\n5. _________\\n\\n#ElCorteIngl…', 'RT @LaLiga: 🤔 Aquí tienes los emojis. ¿Nos dices el equipo?\\n\\n1. _________\\n2. _________\\n3. _________\\n4. _________\\n5. _________\\n\\n#ElCorteIngl…', 'RT @LaLiga: 🤔 Aquí tienes los emojis. ¿Nos dices el equipo?\\n\\n1. _________\\n2. _________\\n3. _________\\n4. _________\\n5. _________\\n\\n#ElCorteIngl…', 'RT @LaLiga: 🤔 Aquí tienes los emojis. ¿Nos dices el equipo?\\n\\n1. _________\\n2. _________\\n3. _________\\n4. _________\\n5. _________\\n\\n#ElCorteIngl…', 'RT @LaLiga: 🤔 Aquí tienes los emojis. ¿Nos dices el equipo?\\n\\n1. _________\\n2. _________\\n3. _________\\n4. _________\\n5. _________\\n\\n#ElCorteIngl…', 'RT @LaLiga: 🤔 Aquí tienes los emojis. ¿Nos dices el equipo?\\n\\n1. _________\\n2. _________\\n3. _________\\n4. _________\\n5. _________\\n\\n#ElCorteIngl…', 'RT @Latorredekafft: Hoy día del libro... os recomendamos nuestra novela #LaTorreDeKafft \\nAventura, acción, amor y juegos a muerte se presen…', 'RT @Latorredekafft: Hoy día del libro... os recomendamos nuestra novela #LaTorreDeKafft \\nAventura, acción, amor y juegos a muerte se presen…', 'Pedido realizado el 12 de abril, entrega antes del 22 de abril se supone. Hoy 29 de abril me informan que el pedido… https://t.co/uB8kXxYHYt', 'La patronal de #ElCorteInglés o #Carrefour pide abrir las tiendas en la primera fase, vía @Invertia \\nhttps://t.co/bE2uaHyc7U #Distribución', 'El Corte Inglés en Huelva y sus empleados donan a las Hermanas de la Cruz 500 kilos de alimentos básicos #Huelva… https://t.co/nxFRY7eMp8', '🌀 Juego de funda nórdica de algodón Gala El Corte Inglés. #ElCorteIngles 🇪🇸\\n\\n🔘 A mitad de precio!!!\\n\\n💶 Precio ofert… https://t.co/6dHhFfK5Bg', 'RT @LaLiga: 🤔 Aquí tienes los emojis. ¿Nos dices el equipo?\\n\\n1. _________\\n2. _________\\n3. _________\\n4. _________\\n5. _________\\n\\n#ElCorteIngl…', 'Hoy después de 8 días de retraso ha llegado mi pedido del @elcorteingles @elcorteinglesac Era para regalo. Traía el… https://t.co/QnW7NBZSLd', \"#ElCorteInglés y #Mercadona, las dos españolas entre las 50 más valiosas del mundo de 'retail', vía @Invertia… https://t.co/egIXzH6YwO\", \"RT @elespanolcom: #ElCorteInglés y #Mercadona, las dos españolas entre las 50 más valiosas del mundo de 'retail', vía @Invertia\\nhttps://t.c…\", \"RT @elespanolcom: #ElCorteInglés y #Mercadona, las dos españolas entre las 50 más valiosas del mundo de 'retail', vía @Invertia\\nhttps://t.c…\", \"RT @elespanolcom: #ElCorteInglés y #Mercadona, las dos españolas entre las 50 más valiosas del mundo de 'retail', vía @Invertia\\nhttps://t.c…\", '🌀 Zapatillas de running de hombre Revolution 5 Nike. #ElCorteIngles 🇪🇸\\n\\n💶 Precio oferta: 54.95€ 💥\\n\\n💳 Enlace:… https://t.co/xf5z9RZYfq', '@elcorteinglesac Recibo mi pedido fuera de plazo, me han llegado las cosas en estado de putrefacción, los frescos c… https://t.co/Ri70yoNfxc', '@medicblasto Prueba con bolos de corticoles #ElCorteIngles', 'RT @vmdiaz: @elcorteinglesac Recibo mi pedido fuera de plazo, me han llegado las cosas en estado de putrefacción, los frescos con vencimien…', 'RT @LaLiga: 🤔 Aquí tienes los emojis. ¿Nos dices el equipo?\\n\\n1. _________\\n2. _________\\n3. _________\\n4. _________\\n5. _________\\n\\n#ElCorteIngl…', 'RT @vmdiaz: @elcorteinglesac Recibo mi pedido fuera de plazo, me han llegado las cosas en estado de putrefacción, los frescos con vencimien…', '@elcorteinglesac pesimo servicio de #elcorteingles. Te entregan material defectuoso y no te hacen abono hasta devol… https://t.co/0nmMhx1HzH', '#ElCorteIngles debería comunicarse con los clientes por retrasos en entrega de pedidos.  A veces un simple mensaje hace un mundo.', 'El Corte Inglés refuerza su servicio de compra online y telefónica para no dar por perdido el peor Día de la Madre… https://t.co/PBrJxcxOZH', 'RT @elperiodicoaqui: El Corte Inglés refuerza su servicio de compra online y telefónica para no dar por perdido el peor Día de la Madre de…', 'Lamentable la imposibilidad de comunicación con @elcorteingles para conocer el estado de un pedido que debía ser en… https://t.co/8ILST9ZYoV', '@elcorteinglesac Buenas, llevamos esperando desde el 27 de Abril la contestación a dos correos electrónicos para ca… https://t.co/EbJRnETr5g', '#hipercor me trae el lunes una compra de 150€ cobrada pero solo llegan la mitad de productos. Nadie coge ningún tel… https://t.co/GPVVfZQcDB', 'Van 29 minutos de espera para que @hipercor Meridiana me coja la llamada, después de estar toda la mañana intentand… https://t.co/t34UGIykFv', '❗️PRECIAZO❗️ #ElCorteIngles🌏\\n\\n🔹Amazfit Bip Lite solo 39,99€❗️⚡️(PVP: 59,99€)\\n🇪🇸Enviado desde España🇪🇸\\n🔰… https://t.co/6PQzZpOHpG', 'RT @vmdiaz: @elcorteinglesac Recibo mi pedido fuera de plazo, me han llegado las cosas en estado de putrefacción, los frescos con vencimien…', '🌀 Depiladora luz pulsada Philips Lumea Prestige para uso en cara, cuerpo y zonas sensibles. #ElCorteIngles 🇪🇸\\n\\n💶 Pr… https://t.co/orIiNuACxx', 'Para mantener tu #reputación y aumentar la confianza de los consumidores, una empresa debe de tomar medidas eficace… https://t.co/p8ViclmXDl', '@GooniesPuebla @laorejadevgogh Pues niña niña niña lo que se dice niña... No era 😄 iba en la prepa y la primera vez… https://t.co/iDlUtlHxRm', '🌀 Zapatillas de running de hombre Revolution 5 Nike. #ElCorteIngles 🇪🇸\\n\\n💶 Precio oferta: 54.95€ 💥\\n\\n💳 Enlace:… https://t.co/NVLRnybNpP', '🌀 Dobble Asmodee. #ElCorteIngles 🇪🇸\\n\\n💶 Precio oferta: 16.5€ 💥\\n\\n💳 Enlace: https://t.co/buwWcWRBSy\\n\\n〽️ En tu casa a u… https://t.co/ZFPhJLfG5w', '🌀 Puzzles Junior. #ElCorteIngles 🇪🇸\\n\\n🔘 Fin del aburrimiento!!!\\n\\n💶 Precio oferta: 11.95€ 💥\\n\\n💳 Enlace:… https://t.co/5mQ4WtJ3P1', 'Hola #Uruguay! queres que tus regalos lleguen a tiempo para el #DiadelaMadre? entonces no dudes en empezar ya mismo… https://t.co/tF8Pe1a54F', '🌀 Cafetera de goteo Taurus Verona II con capacidad para 6 tazas. #ElCorteIngles 🇪🇸\\n\\n💶 Precio oferta: 23€ 💥 (PVP nor… https://t.co/ilZxBlfc7J', 'RT @micasillaeu: Hola #Uruguay! queres que tus regalos lleguen a tiempo para el #DiadelaMadre? entonces no dudes en empezar ya mismo a busc…', '🌀 Juego Monopoly de viaje Hasbro. #ElCorteIngles 🇪🇸\\n\\n💶 Precio oferta: 8.5€ 💥\\n\\n💳 Enlace: https://t.co/Pv056Ean6a\\n\\n〽️… https://t.co/fKIXzvJPxe', '@elcorteinglesac una semana después de abrir una incidencia, aún estoy esperando que me informen. Por favor podrían… https://t.co/JNTq8VgKUq', 'Venimos fluctuando Top1-Top3 por la keyword \"Viajes\" en España sin hacer nada especialmente agresivo y superando a… https://t.co/6vkHmsL8xS', 'RT @micasillaeu: Hola #Uruguay! queres que tus regalos lleguen a tiempo para el #DiadelaMadre? entonces no dudes en empezar ya mismo a busc…', 'Enlace al post completo: https://t.co/9P9bpNKxdA \\nAMAZFIT BIP GPS !!! #ElCorteIngles.\\n\\n Smartwatch Xiaomi AMAZFIT B… https://t.co/G1jRj9ogGM', '⚠️⚠️ CHOLLO #ElCorteIngles ⚠️⚠️\\n\\n‼️ Espectacular ‼️\\n\\nCámara réflex Canon EOS 4000D + EF 18-55 + EF 75-300 + Bolsa B… https://t.co/NDD6f9EbTf', 'Este domingo celebraremos un #DíadelaMadre diferente. Muchos no disfrutaremos de su compañía, pero podemos sorprend… https://t.co/0Nw0JPTBly', 'La Caixa y El Corte Inglés las que más ayudan a la sociedad durante la pandemia, según un estudio… https://t.co/nuGEpOHpqF', 'Pedido online del 18 de marzo a #elcorteingles sigo sin recibir nada, ni producto ni dinero; lapeor experiencia de… https://t.co/u7Qm9aVpNH', 'Vergonzoso #elcorteingles !!! Pedido online de 14 April entrega “3 to 7 working days”!! El 30 de abril me informan… https://t.co/LzaEkbz5a0', '⌚️ ¿Qué, un #SmartWatch con #GPS y monitor de frecuencia cardíaca por menos de 50 💶?\\n\\nSí, el #AmazfitBip\\n\\n🏪 #Amazon… https://t.co/IeHWGxgZo9', '⌚️ ¿Qué, un #SmartWatch con #GPS y monitor de frecuencia cardíaca por menos de 50 💶?\\n\\nSí, el #AmazfitBip\\n\\n🏪 #Amazon… https://t.co/1HrZLdYzf7', '⌚️ ¿Qué, un #SmartWatch con #GPS y monitor de frecuencia cardíaca por menos de 50 💶?\\n\\nSí, el #AmazfitBip\\n\\n🏪 #Amazon… https://t.co/kCS75SMpTa', '@elcorteingles y que atención al cliente respondiera cuando se le pregunta por un pedido también estaría bien #elcorteinglés', 'La dulzura tiene diferentes caras, algunas son agridulces otras esconden un sabor amargo en una cobertura dulce.… https://t.co/rGZ4S67hWj', 'RT @Amadomartin: Venimos fluctuando Top1-Top3 por la keyword \"Viajes\" en España sin hacer nada especialmente agresivo y superando a Megaemp…', '🌀 Portátil HP 14-dk0001ns, AMD Ryzen 3, 8 GB, 256 GB SSD, AMD Radeon Vega 3. #ElCorteIngles 🇪🇸\\n\\n💶 Precio oferta: 42… https://t.co/ULv3YlFnp2', '¿Adivinas QUIÉNES son estos JUGADORES? 🧐\\n\\n#ElCorteInglés\\n#QuédateEnCasa https://t.co/SEfXSDG1fY', 'RT @LaLiga: ¿Adivinas QUIÉNES son estos JUGADORES? 🧐\\n\\n#ElCorteInglés\\n#QuédateEnCasa https://t.co/SEfXSDG1fY', 'RT @LaLiga: ¿Adivinas QUIÉNES son estos JUGADORES? 🧐\\n\\n#ElCorteInglés\\n#QuédateEnCasa https://t.co/SEfXSDG1fY', 'RT @LaLiga: ¿Adivinas QUIÉNES son estos JUGADORES? 🧐\\n\\n#ElCorteInglés\\n#QuédateEnCasa https://t.co/SEfXSDG1fY', '🌀 Biberón Anticólico Vídrio 3 Posiciones Tetina Silicona Suavinex Hygge (240 ml.)  0 M. gris. #ElCorteIngles 🇪🇸\\n\\n💶… https://t.co/yY2HLlZkem', 'Monitor HP especial gaming con un 20% de descuento\\nSe trata del monitor HP 27XQ, un monitor perfecto para gamers… https://t.co/CNj6VKUwtU', '🔴 #ÚltimaHora\\nFallece con 52 años el director de #ElCorteInglés de #Málaga al sufrir un #infarto mientras se encontraba en su despacho.', 'RT @JesusNavarro: 🔴 #ÚltimaHora\\nFallece con 52 años el director de #ElCorteInglés de #Málaga al sufrir un #infarto mientras se encontraba e…', 'RT @JesusNavarro: 🔴 #ÚltimaHora\\nFallece con 52 años el director de #ElCorteInglés de #Málaga al sufrir un #infarto mientras se encontraba e…', 'RT @JesusNavarro: 🔴 #ÚltimaHora\\nFallece con 52 años el director de #ElCorteInglés de #Málaga al sufrir un #infarto mientras se encontraba e…', 'RT @JesusNavarro: 🔴 #ÚltimaHora\\nFallece con 52 años el director de #ElCorteInglés de #Málaga al sufrir un #infarto mientras se encontraba e…', 'RT @JesusNavarro: 🔴 #ÚltimaHora\\nFallece con 52 años el director de #ElCorteInglés de #Málaga al sufrir un #infarto mientras se encontraba e…', 'RT @JesusNavarro: 🔴 #ÚltimaHora\\nFallece con 52 años el director de #ElCorteInglés de #Málaga al sufrir un #infarto mientras se encontraba e…', 'Señores de @elcorteingles 2 errores en pedidos click&amp;car. Dos correos solicitando soluciones, el último el 26 de ab… https://t.co/f9D4KknPvC', 'RT @JesusNavarro: 🔴 #ÚltimaHora\\nFallece con 52 años el director de #ElCorteInglés de #Málaga al sufrir un #infarto mientras se encontraba e…', 'RT @educarrizo: Señores de @elcorteingles 2 errores en pedidos click&amp;car. Dos correos solicitando soluciones, el último el 26 de abril. La…', '@educarrizo @elcorteingles Así ha sido todo el tiempo. Luego te llega la mitad de lo q pides y cdo admites cambios… https://t.co/vYxAC9tr67', 'RT @JesusNavarro: 🔴 #ÚltimaHora\\nFallece con 52 años el director de #ElCorteInglés de #Málaga al sufrir un #infarto mientras se encontraba e…', 'RT @JesusNavarro: 🔴 #ÚltimaHora\\nFallece con 52 años el director de #ElCorteInglés de #Málaga al sufrir un #infarto mientras se encontraba e…', 'RT @JesusNavarro: 🔴 #ÚltimaHora\\nFallece con 52 años el director de #ElCorteInglés de #Málaga al sufrir un #infarto mientras se encontraba e…', '#dissabte #keepcalmandconfinament #elcorteingles #NuevaNormalidad ...pasos y más pasos hacia la ansiada normalidad… https://t.co/0GmusCN2Mw', 'RT @JesusNavarro: 🔴 #ÚltimaHora\\nFallece con 52 años el director de #ElCorteInglés de #Málaga al sufrir un #infarto mientras se encontraba e…', '🌀 Congelador horizontal Saivod AT553 con capacidad de 104 litros. #ElCorteIngles 🇪🇸\\n\\n💶 Precio oferta: 169.15€ 💥 (PV… https://t.co/XzCIrqVymR', 'RT @JesusNavarro: 🔴 #ÚltimaHora\\nFallece con 52 años el director de #ElCorteInglés de #Málaga al sufrir un #infarto mientras se encontraba e…', 'RT @LaLiga: ¿Adivinas QUIÉNES son estos JUGADORES? 🧐\\n\\n#ElCorteInglés\\n#QuédateEnCasa https://t.co/SEfXSDG1fY', '¿es que ya es #verano en #elcorteingles y no nos habíamos enterado? ¡ #quécalor! #Murcia #PuentedeMayo #calor', '🌀 Pack Lactancia recién nacido Philips Avent Anticólicos con Sistema AirFree: 4 Biberones   Chupete transparente.… https://t.co/2qOW6AnyY3', '@HacheFilardi @jlobo2008 Hace un año me hicieron una operación importante, y mientras estaba en la UCI recibí una l… https://t.co/t8bbQdyKwc', 'Necesito a alguien que trabaje en ATENCIÓN AL CLIENTE de #elcorteingles de Nervión o de la sección BEBE. El 20 de M… https://t.co/CjqiKzbS6b', 'RT @Pako_roman: Necesito a alguien que trabaje en ATENCIÓN AL CLIENTE de #elcorteingles de Nervión o de la sección BEBE. El 20 de Mayo cump…', 'RT @Pako_roman: Necesito a alguien que trabaje en ATENCIÓN AL CLIENTE de #elcorteingles de Nervión o de la sección BEBE. El 20 de Mayo cump…', 'RT @Pako_roman: Necesito a alguien que trabaje en ATENCIÓN AL CLIENTE de #elcorteingles de Nervión o de la sección BEBE. El 20 de Mayo cump…', 'RT @Pako_roman: Necesito a alguien que trabaje en ATENCIÓN AL CLIENTE de #elcorteingles de Nervión o de la sección BEBE. El 20 de Mayo cump…', 'RT @Pako_roman: Necesito a alguien que trabaje en ATENCIÓN AL CLIENTE de #elcorteingles de Nervión o de la sección BEBE. El 20 de Mayo cump…', 'RT @Pako_roman: Necesito a alguien que trabaje en ATENCIÓN AL CLIENTE de #elcorteingles de Nervión o de la sección BEBE. El 20 de Mayo cump…', 'RT @Pako_roman: Necesito a alguien que trabaje en ATENCIÓN AL CLIENTE de #elcorteingles de Nervión o de la sección BEBE. El 20 de Mayo cump…', 'RT @Pako_roman: Necesito a alguien que trabaje en ATENCIÓN AL CLIENTE de #elcorteingles de Nervión o de la sección BEBE. El 20 de Mayo cump…', 'RT @Pako_roman: Necesito a alguien que trabaje en ATENCIÓN AL CLIENTE de #elcorteingles de Nervión o de la sección BEBE. El 20 de Mayo cump…', 'RT @Pako_roman: Necesito a alguien que trabaje en ATENCIÓN AL CLIENTE de #elcorteingles de Nervión o de la sección BEBE. El 20 de Mayo cump…', 'RT @JesusNavarro: 🔴 #ÚltimaHora\\nFallece con 52 años el director de #ElCorteInglés de #Málaga al sufrir un #infarto mientras se encontraba e…', 'RT @Pako_roman: Necesito a alguien que trabaje en ATENCIÓN AL CLIENTE de #elcorteingles de Nervión o de la sección BEBE. El 20 de Mayo cump…', 'RT @JesusNavarro: 🔴 #ÚltimaHora\\nFallece con 52 años el director de #ElCorteInglés de #Málaga al sufrir un #infarto mientras se encontraba e…', 'RT @Pako_roman: Necesito a alguien que trabaje en ATENCIÓN AL CLIENTE de #elcorteingles de Nervión o de la sección BEBE. El 20 de Mayo cump…', 'RT @Pako_roman: Necesito a alguien que trabaje en ATENCIÓN AL CLIENTE de #elcorteingles de Nervión o de la sección BEBE. El 20 de Mayo cump…', 'RT @Pako_roman: Necesito a alguien que trabaje en ATENCIÓN AL CLIENTE de #elcorteingles de Nervión o de la sección BEBE. El 20 de Mayo cump…', 'RT @Pako_roman: Necesito a alguien que trabaje en ATENCIÓN AL CLIENTE de #elcorteingles de Nervión o de la sección BEBE. El 20 de Mayo cump…']\n"
     ]
    }
   ],
   "source": [
    "positivo=0\n",
    "negativo=0\n",
    "neutral=0\n",
    "polarity=0\n",
    "tweetPositivo = []\n",
    "tweetNeutro = []\n",
    "\n",
    "for tweet in df_tweets['text']:\n",
    "    \n",
    "    analysis = TextBlob(tweet)\n",
    "    polarity += analysis.sentiment.polarity\n",
    "    \n",
    "    if (analysis.sentiment.polarity ==0 ):\n",
    "        neutral +=1\n",
    "        tweetNeutro.append(tweet)\n",
    "    elif (analysis.sentiment.polarity < 0):\n",
    "        negativo +=1\n",
    "    elif (analysis.sentiment.polarity > 0):\n",
    "        positivo +=1\n",
    "        tweetPositivo.append(tweet)\n",
    "        \n",
    "positivo = 100*float(positivo)/float(229)\n",
    "print('Positivo:', positivo,'%')\n",
    "negativo = 100*float(negativo)/float(229)\n",
    "print('Negativo:', negativo,'%')\n",
    "neutral = 100*float(neutral)/float(229)\n",
    "print('Neutral:', neutral,'%')\n",
    "\n",
    "print(\"Como reacciona la gente antes el COVID\")\n",
    "print('------------------')\n",
    "print(tweetPositivo)\n",
    "print('------------------')\n",
    "print(tweetNeutro)\n"
   ]
  },
  {
   "cell_type": "markdown",
   "metadata": {},
   "source": [
    "# Lo representamos en un gráfico de tartas"
   ]
  },
  {
   "cell_type": "code",
   "execution_count": 11,
   "metadata": {
    "scrolled": false
   },
   "outputs": [
    {
     "data": {
      "image/png": "[encoded data removed]",
      "text/plain": [
       "<Figure size 432x288 with 1 Axes>"
      ]
     },
     "metadata": {},
     "output_type": "display_data"
    }
   ],
   "source": [
    "labels = ['Positivo ['+str(positivo)+'%]','Neutral ['+str(neutral)+'%]','Negativo ['+str(negativo)+'%]']\n",
    "sizes = [positivo,neutral,negativo]\n",
    "colors =['yellowgreen','gold','green']\n",
    "patches, texts = plt.pie(sizes, colors=colors, startangle=90)\n",
    "plt.title('Opinión ECI - COVID')\n",
    "plt.axis('equal')\n",
    "plt.show()\n"
   ]
  },
  {
   "cell_type": "code",
   "execution_count": null,
   "metadata": {},
   "outputs": [],
   "source": []
  }
 ],
 "metadata": {
  "kernelspec": {
   "display_name": "Python 3",
   "language": "python",
   "name": "python3"
  },
  "language_info": {
   "codemirror_mode": {
    "name": "ipython",
    "version": 3
   },
   "file_extension": ".py",
   "mimetype": "text/x-python",
   "name": "python",
   "nbconvert_exporter": "python",
   "pygments_lexer": "ipython3",
   "version": "3.7.4"
  }
 },
 "nbformat": 4,
 "nbformat_minor": 2
}
